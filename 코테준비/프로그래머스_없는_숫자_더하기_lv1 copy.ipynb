{
 "cells": [
  {
   "cell_type": "markdown",
   "metadata": {},
   "source": [
    "없는 숫자 더하기\n",
    "문제 설명\n",
    "0부터 9까지의 숫자 중 일부가 들어있는 정수 배열 numbers가 매개변수로 주어집니다. numbers에서 찾을 수 없는 0부터 9까지의 숫자를 모두 찾아 더한 수를 return 하도록 solution 함수를 완성해주세요.\n",
    "\n",
    "제한사항\n",
    "1 ≤ numbers의 길이 ≤ 9\n",
    "0 ≤ numbers의 모든 원소 ≤ 9\n",
    "numbers의 모든 원소는 서로 다릅니다.\n",
    "입출력 예\n",
    "numbers\tresult\n",
    "[1,2,3,4,6,7,8,0]\t14\n",
    "[5,8,4,0,6,7,9]\t6\n",
    "입출력 예 설명\n",
    "입출력 예 #1\n",
    "\n",
    "5, 9가 numbers에 없으므로, 5 + 9 = 14를 return 해야 합니다.\n",
    "입출력 예 #2\n",
    "\n",
    "1, 2, 3이 numbers에 없으므로, 1 + 2 + 3 = 6을 return 해야 합니다."
   ]
  },
  {
   "cell_type": "code",
   "execution_count": 1,
   "metadata": {},
   "outputs": [
    {
     "data": {
      "text/plain": [
       "14"
      ]
     },
     "execution_count": 1,
     "metadata": {},
     "output_type": "execute_result"
    }
   ],
   "source": [
    "def solution(numbers):\n",
    "    \n",
    "    target_arr = [0,1,2,3,4,5,6,7,8,9]\n",
    "    \n",
    "    for item in numbers:\n",
    "        target_arr.remove(item)\n",
    "    \n",
    "    answer = sum(target_arr)\n",
    "    return answer\n",
    "\n",
    "solution(\t[1, 2, 3, 4, 6, 7, 8, 0])\n"
   ]
  }
 ],
 "metadata": {
  "kernelspec": {
   "display_name": "Python 3.7.5 ('env': venv)",
   "language": "python",
   "name": "python3"
  },
  "language_info": {
   "codemirror_mode": {
    "name": "ipython",
    "version": 3
   },
   "file_extension": ".py",
   "mimetype": "text/x-python",
   "name": "python",
   "nbconvert_exporter": "python",
   "pygments_lexer": "ipython3",
   "version": "3.7.5"
  },
  "orig_nbformat": 4,
  "vscode": {
   "interpreter": {
    "hash": "02f73df80f6b7cfb1d2d2729c6624b9061c0386599073f9b468acf97e0bc0e85"
   }
  }
 },
 "nbformat": 4,
 "nbformat_minor": 2
}
