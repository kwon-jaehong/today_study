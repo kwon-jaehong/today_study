{
 "cells": [
  {
   "cell_type": "code",
   "execution_count": 94,
   "metadata": {},
   "outputs": [],
   "source": [
    "import pandas as pd \n",
    "\n",
    "\n",
    "df = pd.read_csv('./train.csv')\n"
   ]
  },
  {
   "cell_type": "code",
   "execution_count": 95,
   "metadata": {},
   "outputs": [
    {
     "name": "stdout",
     "output_type": "stream",
     "text": [
      "['숙박', '자연', '음식', '레포츠', '쇼핑', '인문(문화/예술/역사)'] \n",
      " ['관광자원', '산업관광지', '공연/행사', '복합 레포츠', '수상 레포츠', '항공 레포츠', '역사관광지', '축제', '육상 레포츠', '체험관광지', '문화시설', '음식점', '숙박시설', '쇼핑', '자연관광지', '건축/조형물', '레포츠소개', '휴양관광지'] \n",
      " ['기암괴석', '골프', '승마', '바다낚시', 'ATV', '군립공원', '산', '카약/카누', '요트', '트래킹', '유람선/잠수함관광', '헹글라이딩/패러글라이딩', '섬', '모텔', '민박', '5일장', '야영장,오토캠핑장', '이색거리', '학교', '스키/스노보드', '전시관', '중식', '홈스테이', '해안절경', '식음료', '스케이트', '약수터', '상설시장', '수상레포츠', '한식', '도립공원', '카지노', '자동차경주', '클럽', '민물낚시', '바/까페', '항구/포구', '사격장', '유적지/사적지', '유명건물', '스노쿨링/스킨스쿠버다이빙', '도서관', '전문상가', '미술관/화랑', '유스호스텔', '등대', '기념탑/기념비/전망대', '다리/대교', '분수', '공연장', '뮤지컬', '일반축제', '동상', '특산물판매점', '희귀동.식물', '클래식음악회', '콘도미니엄', '계곡', '문화전수시설', '성', '해수욕장', '게스트하우스', '종교성지', '펜션', '민속마을', '외국문화원', '서비스드레지던스', '영화관', '래프팅', '인라인(실내 인라인 포함)', '강', '고택', '빙벽등반', '기타행사', '유원지', '호수', '동굴', '생가', '기타', '일식', 'MTB', '국립공원', '문', '문화관광축제', '서양식', '연극', '한옥스테이', '스카이다이빙', '썰매장', '공예,공방', '관광단지', '수련시설', '온천/욕장/스파', '박물관', '박람회', '채식전문점', '자연휴양림', '면세점', '이색찜질방', '공원', '폭포', '농.산.어촌 체험', '윈드서핑/제트스키', '대중콘서트', '자연생태관광지', '카트', '터널', '백화점', '기념관', '사찰', '안보관광', '수목원', '대형서점', '테마공원', '컨벤션', '이색체험', '번지점프', '자전거하이킹', '패밀리레스토랑', '복합 레포츠', '수영', '스키(보드) 렌탈샵', '전통공연', '문화원', '발전소', '고궁', '헬스투어', '컨벤션센터']\n",
      "6 18 128\n"
     ]
    }
   ],
   "source": [
    "cols = [\"cat1\",\"cat2\",\"cat3\"]\n",
    "cat_list_data = df[cols].values.tolist()\n",
    "\n",
    "cat1_list = []\n",
    "cat2_list = []\n",
    "cat3_list = []\n",
    "\n",
    "for x in cat_list_data:\n",
    "    cat1_list.append(x[0])\n",
    "    cat2_list.append(x[1])\n",
    "    cat3_list.append(x[2])\n",
    "\n",
    "cat1_list = list(set(cat1_list))\n",
    "cat2_list = list(set(cat2_list))\n",
    "cat3_list = list(set(cat3_list))\n",
    "\n",
    "print(cat1_list,\"\\n\",cat2_list,\"\\n\",cat3_list)\n",
    "print(len(cat1_list),len(cat2_list),len(cat3_list) )"
   ]
  },
  {
   "cell_type": "code",
   "execution_count": 96,
   "metadata": {},
   "outputs": [],
   "source": [
    "import torch.nn as nn\n",
    "import torch"
   ]
  },
  {
   "cell_type": "code",
   "execution_count": 97,
   "metadata": {},
   "outputs": [
    {
     "name": "stdout",
     "output_type": "stream",
     "text": [
      "torch.Size([6, 392, 768])\n"
     ]
    }
   ],
   "source": [
    "\n",
    "\n",
    "# (batch_size, time_steps, input_size)\n",
    "inputs = torch.ones(6, 392, 768)\n",
    "\n",
    "\n",
    "lstm = nn.LSTM(768,768,2,batch_first=True)\n",
    "\n",
    "\n",
    "h0 = torch.zeros(2,inputs.shape[0],768)\n",
    "c0 = torch.zeros(2,inputs.shape[0],768)\n",
    "\n",
    "output,_ = lstm(inputs,(h0,c0))\n",
    "\n",
    "print(inputs.shape)\n",
    "# ## batch\n",
    "# h0 = torch.zeros((3,1))\n",
    "# c0 = torch.zeros((3,1))\n",
    "\n",
    "# cell = nn.LSTM(input_size, 1, batch_first=True)\n",
    "\n",
    "# # outputs, _status = cell(inputs,(h0,c0))\n",
    "# outputs,_ = cell(inputs,(h0,c0))"
   ]
  },
  {
   "cell_type": "code",
   "execution_count": 98,
   "metadata": {},
   "outputs": [
    {
     "data": {
      "text/plain": [
       "torch.Size([6, 392, 768])"
      ]
     },
     "execution_count": 98,
     "metadata": {},
     "output_type": "execute_result"
    }
   ],
   "source": [
    "output.shape"
   ]
  },
  {
   "cell_type": "code",
   "execution_count": 99,
   "metadata": {},
   "outputs": [
    {
     "data": {
      "text/plain": [
       "tensor([[-0.0664, -0.0056, -0.1348,  ...,  0.0308,  0.0618,  0.0931],\n",
       "        [-0.0664, -0.0056, -0.1348,  ...,  0.0308,  0.0618,  0.0931],\n",
       "        [-0.0664, -0.0056, -0.1348,  ...,  0.0308,  0.0618,  0.0931],\n",
       "        [-0.0664, -0.0056, -0.1348,  ...,  0.0308,  0.0618,  0.0931],\n",
       "        [-0.0664, -0.0056, -0.1348,  ...,  0.0308,  0.0618,  0.0931],\n",
       "        [-0.0664, -0.0056, -0.1348,  ...,  0.0308,  0.0618,  0.0931]],\n",
       "       grad_fn=<SliceBackward>)"
      ]
     },
     "execution_count": 99,
     "metadata": {},
     "output_type": "execute_result"
    }
   ],
   "source": [
    "#각 데이터의 마지막층 결과값 가져옴\n",
    "ht = output[:,-1,:]\n",
    "ht"
   ]
  },
  {
   "cell_type": "code",
   "execution_count": 100,
   "metadata": {},
   "outputs": [
    {
     "data": {
      "text/plain": [
       "torch.Size([6, 768])"
      ]
     },
     "execution_count": 100,
     "metadata": {},
     "output_type": "execute_result"
    }
   ],
   "source": [
    "ht.shape"
   ]
  },
  {
   "cell_type": "code",
   "execution_count": null,
   "metadata": {},
   "outputs": [],
   "source": []
  },
  {
   "cell_type": "code",
   "execution_count": null,
   "metadata": {},
   "outputs": [],
   "source": []
  }
 ],
 "metadata": {
  "kernelspec": {
   "display_name": "Python 3.7.0 ('env': venv)",
   "language": "python",
   "name": "python3"
  },
  "language_info": {
   "codemirror_mode": {
    "name": "ipython",
    "version": 3
   },
   "file_extension": ".py",
   "mimetype": "text/x-python",
   "name": "python",
   "nbconvert_exporter": "python",
   "pygments_lexer": "ipython3",
   "version": "3.7.0"
  },
  "orig_nbformat": 4,
  "vscode": {
   "interpreter": {
    "hash": "4a343bfc7efa4c1701031899a7f6f4408b3532fb01783297054a5ede20989faa"
   }
  }
 },
 "nbformat": 4,
 "nbformat_minor": 2
}
