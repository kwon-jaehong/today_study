{
 "cells": [
  {
   "cell_type": "code",
   "execution_count": 16,
   "metadata": {},
   "outputs": [],
   "source": [
    "import pandas as pd \n",
    "\n",
    "\n",
    "df = pd.read_csv('./train.csv')\n"
   ]
  },
  {
   "cell_type": "code",
   "execution_count": 17,
   "metadata": {},
   "outputs": [
    {
     "name": "stdout",
     "output_type": "stream",
     "text": [
      "['자연', '인문(문화/예술/역사)', '음식', '쇼핑', '숙박', '레포츠'] \n",
      " ['육상 레포츠', '관광자원', '레포츠소개', '숙박시설', '휴양관광지', '건축/조형물', '역사관광지', '음식점', '자연관광지', '복합 레포츠', '수상 레포츠', '문화시설', '쇼핑', '항공 레포츠', '축제', '산업관광지', '공연/행사', '체험관광지'] \n",
      " ['관광단지', '래프팅', '기념관', '약수터', '헹글라이딩/패러글라이딩', '분수', '승마', '카약/카누', '항구/포구', '테마공원', '펜션', '바/까페', '썰매장', '상설시장', '다리/대교', '박물관', '온천/욕장/스파', '바다낚시', '해수욕장', '동상', '컨벤션', 'MTB', '게스트하우스', '뮤지컬', '골프', '공원', '스키(보드) 렌탈샵', '산', '유람선/잠수함관광', '유적지/사적지', '도립공원', '연극', '유원지', '야영장,오토캠핑장', '전시관', '희귀동.식물', '스키/스노보드', '기념탑/기념비/전망대', '대중콘서트', '사찰', '트래킹', '학교', '특산물판매점', 'ATV', '컨벤션센터', '계곡', '자전거하이킹', '유명건물', '박람회', '헬스투어', '호수', '스노쿨링/스킨스쿠버다이빙', '고궁', '채식전문점', '기암괴석', '기타', '생가', '사격장', '미술관/화랑', '면세점', '외국문화원', '전통공연', '민물낚시', '인라인(실내 인라인 포함)', '홈스테이', '터널', '발전소', '중식', '유스호스텔', '요트', '문화전수시설', '백화점', '수상레포츠', '한옥스테이', '자연생태관광지', '일반축제', '민속마을', '동굴', '도서관', '수영', '공예,공방', '수련시설', '강', '패밀리레스토랑', '공연장', '자연휴양림', '이색체험', '대형서점', '민박', '문화원', '이색거리', '콘도미니엄', '문', '카트', '클럽', '기타행사', '농.산.어촌 체험', '자동차경주', '전문상가', '이색찜질방', '등대', '모텔', '국립공원', '섬', '서양식', '폭포', '카지노', '고택', '스케이트', '종교성지', '스카이다이빙', '복합 레포츠', '군립공원', '빙벽등반', '해안절경', '윈드서핑/제트스키', '클래식음악회', '영화관', '번지점프', '한식', '안보관광', '수목원', '일식', '5일장', '식음료', '성', '문화관광축제', '서비스드레지던스']\n",
      "6 18 128\n"
     ]
    }
   ],
   "source": [
    "cols = [\"cat1\",\"cat2\",\"cat3\"]\n",
    "cat_list_data = df[cols].values.tolist()\n",
    "\n",
    "cat1_list = []\n",
    "cat2_list = []\n",
    "cat3_list = []\n",
    "\n",
    "for x in cat_list_data:\n",
    "    cat1_list.append(x[0])\n",
    "    cat2_list.append(x[1])\n",
    "    cat3_list.append(x[2])\n",
    "\n",
    "cat1_list = list(set(cat1_list))\n",
    "cat2_list = list(set(cat2_list))\n",
    "cat3_list = list(set(cat3_list))\n",
    "\n",
    "print(cat1_list,\"\\n\",cat2_list,\"\\n\",cat3_list)\n",
    "print(len(cat1_list),len(cat2_list),len(cat3_list) )"
   ]
  },
  {
   "cell_type": "code",
   "execution_count": null,
   "metadata": {},
   "outputs": [],
   "source": []
  },
  {
   "cell_type": "code",
   "execution_count": null,
   "metadata": {},
   "outputs": [],
   "source": []
  },
  {
   "cell_type": "code",
   "execution_count": null,
   "metadata": {},
   "outputs": [],
   "source": []
  },
  {
   "cell_type": "code",
   "execution_count": null,
   "metadata": {},
   "outputs": [],
   "source": []
  },
  {
   "cell_type": "code",
   "execution_count": null,
   "metadata": {},
   "outputs": [],
   "source": []
  },
  {
   "cell_type": "code",
   "execution_count": null,
   "metadata": {},
   "outputs": [],
   "source": []
  },
  {
   "cell_type": "code",
   "execution_count": null,
   "metadata": {},
   "outputs": [],
   "source": []
  },
  {
   "cell_type": "code",
   "execution_count": null,
   "metadata": {},
   "outputs": [],
   "source": []
  },
  {
   "cell_type": "code",
   "execution_count": null,
   "metadata": {},
   "outputs": [],
   "source": []
  }
 ],
 "metadata": {
  "kernelspec": {
   "display_name": "Python 3.7.0 ('env': venv)",
   "language": "python",
   "name": "python3"
  },
  "language_info": {
   "codemirror_mode": {
    "name": "ipython",
    "version": 3
   },
   "file_extension": ".py",
   "mimetype": "text/x-python",
   "name": "python",
   "nbconvert_exporter": "python",
   "pygments_lexer": "ipython3",
   "version": "3.7.0"
  },
  "orig_nbformat": 4,
  "vscode": {
   "interpreter": {
    "hash": "4a343bfc7efa4c1701031899a7f6f4408b3532fb01783297054a5ede20989faa"
   }
  }
 },
 "nbformat": 4,
 "nbformat_minor": 2
}
