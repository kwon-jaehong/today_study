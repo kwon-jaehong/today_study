{
 "cells": [
  {
   "cell_type": "code",
   "execution_count": 14,
   "metadata": {},
   "outputs": [],
   "source": [
    "import pandas as pd \n",
    "\n",
    "\n",
    "df = pd.read_csv('./train.csv')\n"
   ]
  },
  {
   "cell_type": "code",
   "execution_count": 15,
   "metadata": {},
   "outputs": [
    {
     "name": "stdout",
     "output_type": "stream",
     "text": [
      "['자연', '인문(문화/예술/역사)', '음식', '숙박', '레포츠', '쇼핑'] \n",
      " ['산업관광지', '항공 레포츠', '체험관광지', '문화시설', '숙박시설', '복합 레포츠', '건축/조형물', '축제', '역사관광지', '음식점', '관광자원', '휴양관광지', '수상 레포츠', '레포츠소개', '육상 레포츠', '쇼핑', '자연관광지', '공연/행사'] \n",
      " ['인라인(실내 인라인 포함)', '수상레포츠', '박람회', '해수욕장', '스노쿨링/스킨스쿠버다이빙', '트래킹', '바다낚시', '일반축제', '스케이트', '기타', '온천/욕장/스파', '홈스테이', '항구/포구', '학교', '콘도미니엄', '종교성지', '카약/카누', '민박', '문화전수시설', '자전거하이킹', '관광단지', '스키(보드) 렌탈샵', '기암괴석', '클럽', '해안절경', '계곡', '도립공원', '유적지/사적지', '국립공원', '전문상가', '자동차경주', '이색체험', '박물관', '발전소', '사찰', '일식', '이색거리', '터널', '스키/스노보드', '특산물판매점', '헹글라이딩/패러글라이딩', '컨벤션센터', '수영', '번지점프', '폭포', '문', '생가', '빙벽등반', '군립공원', '자연생태관광지', '자연휴양림', '영화관', '기념탑/기념비/전망대', '헬스투어', '야영장,오토캠핑장', '섬', '외국문화원', '민속마을', '대중콘서트', '유명건물', '공원', '등대', '수련시설', '도서관', '5일장', '승마', '카지노', '공예,공방', '다리/대교', '골프', '래프팅', '희귀동.식물', '한식', '펜션', '상설시장', '호수', '썰매장', '민물낚시', '카트', '강', '동상', '스카이다이빙', 'ATV', '유람선/잠수함관광', '패밀리레스토랑', '테마공원', '문화원', '동굴', '요트', '약수터', '미술관/화랑', '전시관', '산', '기념관', '클래식음악회', '면세점', '고택', '공연장', '분수', '안보관광', '뮤지컬', '유스호스텔', '농.산.어촌 체험', '기타행사', '서양식', '유원지', '전통공연', '대형서점', '사격장', '이색찜질방', '성', '윈드서핑/제트스키', '문화관광축제', '한옥스테이', '수목원', '고궁', '식음료', '바/까페', '백화점', 'MTB', '서비스드레지던스', '게스트하우스', '컨벤션', '중식', '복합 레포츠', '연극', '모텔', '채식전문점']\n",
      "6 18 128\n"
     ]
    }
   ],
   "source": [
    "cols = [\"cat1\",\"cat2\",\"cat3\"]\n",
    "cat_list_data = df[cols].values.tolist()\n",
    "\n",
    "cat1_list = []\n",
    "cat2_list = []\n",
    "cat3_list = []\n",
    "\n",
    "for x in cat_list_data:\n",
    "    cat1_list.append(x[0])\n",
    "    cat2_list.append(x[1])\n",
    "    cat3_list.append(x[2])\n",
    "\n",
    "cat1_list = list(set(cat1_list))\n",
    "cat2_list = list(set(cat2_list))\n",
    "cat3_list = list(set(cat3_list))\n",
    "\n",
    "print(cat1_list,\"\\n\",cat2_list,\"\\n\",cat3_list)\n",
    "print(len(cat1_list),len(cat2_list),len(cat3_list) )"
   ]
  },
  {
   "cell_type": "code",
   "execution_count": 16,
   "metadata": {},
   "outputs": [
    {
     "data": {
      "text/plain": [
       "[5614, 4912, 2611, 1719, 1434, 696]"
      ]
     },
     "execution_count": 16,
     "metadata": {},
     "output_type": "execute_result"
    }
   ],
   "source": [
    "list(df['cat1'].value_counts())"
   ]
  },
  {
   "cell_type": "code",
   "execution_count": 17,
   "metadata": {},
   "outputs": [
    {
     "data": {
      "text/plain": [
       "[4912,\n",
       " 2288,\n",
       " 1578,\n",
       " 1571,\n",
       " 1434,\n",
       " 1220,\n",
       " 889,\n",
       " 805,\n",
       " 696,\n",
       " 569,\n",
       " 328,\n",
       " 277,\n",
       " 141,\n",
       " 139,\n",
       " 93,\n",
       " 24,\n",
       " 11,\n",
       " 11]"
      ]
     },
     "execution_count": 17,
     "metadata": {},
     "output_type": "execute_result"
    }
   ],
   "source": [
    "list(df['cat2'].value_counts())"
   ]
  },
  {
   "cell_type": "code",
   "execution_count": 18,
   "metadata": {},
   "outputs": [
    {
     "data": {
      "text/plain": [
       "{'한식': 3438,\n",
       " '야영장,오토캠핑장': 1558,\n",
       " '바/까페': 785,\n",
       " '유적지/사적지': 622,\n",
       " '일반축제': 549,\n",
       " '사찰': 495,\n",
       " '이색거리': 467,\n",
       " '펜션': 445,\n",
       " '한옥스테이': 404,\n",
       " '모텔': 340,\n",
       " '농.산.어촌 체험': 332,\n",
       " '박물관': 310,\n",
       " '공원': 271,\n",
       " '상설시장': 270,\n",
       " '트래킹': 246,\n",
       " '전시관': 243,\n",
       " '산': 239,\n",
       " '서양식': 226,\n",
       " '유원지': 211,\n",
       " '중식': 209,\n",
       " '자연생태관광지': 207,\n",
       " '해수욕장': 207,\n",
       " '미술관/화랑': 204,\n",
       " '골프': 179,\n",
       " '전문상가': 173,\n",
       " '테마공원': 172,\n",
       " '5일장': 165,\n",
       " '계곡': 160,\n",
       " '일식': 151,\n",
       " '기념탑/기념비/전망대': 148,\n",
       " '항구/포구': 134,\n",
       " '관광단지': 126,\n",
       " '공연장': 120,\n",
       " '민물낚시': 119,\n",
       " '자연휴양림': 118,\n",
       " '문화원': 113,\n",
       " '섬': 111,\n",
       " '유명건물': 105,\n",
       " '강': 104,\n",
       " '수목원': 95,\n",
       " '수련시설': 95,\n",
       " '고택': 92,\n",
       " '도서관': 92,\n",
       " '희귀동.식물': 88,\n",
       " '성': 85,\n",
       " '게스트하우스': 83,\n",
       " '기타': 79,\n",
       " '민속마을': 76,\n",
       " '기타행사': 71,\n",
       " '종교성지': 65,\n",
       " '기념관': 64,\n",
       " '패밀리레스토랑': 61,\n",
       " '스키(보드) 렌탈샵': 60,\n",
       " '홈스테이': 57,\n",
       " '바다낚시': 57,\n",
       " '온천/욕장/스파': 53,\n",
       " '기암괴석': 53,\n",
       " '생가': 43,\n",
       " '공예,공방': 41,\n",
       " '다리/대교': 41,\n",
       " '폭포': 40,\n",
       " '민박': 39,\n",
       " '특산물판매점': 37,\n",
       " '고궁': 36,\n",
       " '채식전문점': 36,\n",
       " '자동차경주': 35,\n",
       " '안보관광': 34,\n",
       " '콘도미니엄': 34,\n",
       " '유람선/잠수함관광': 30,\n",
       " '호수': 30,\n",
       " '박람회': 29,\n",
       " '윈드서핑/제트스키': 27,\n",
       " '썰매장': 27,\n",
       " '수영': 27,\n",
       " '문화전수시설': 26,\n",
       " '해안절경': 25,\n",
       " '등대': 24,\n",
       " '복합 레포츠': 24,\n",
       " '문': 23,\n",
       " '컨벤션': 22,\n",
       " '승마': 21,\n",
       " '국립공원': 21,\n",
       " '동굴': 20,\n",
       " '문화관광축제': 20,\n",
       " '유스호스텔': 20,\n",
       " '동상': 18,\n",
       " '래프팅': 18,\n",
       " '대형서점': 17,\n",
       " '약수터': 17,\n",
       " '도립공원': 15,\n",
       " '헬스투어': 15,\n",
       " '자전거하이킹': 13,\n",
       " '서비스드레지던스': 12,\n",
       " '요트': 12,\n",
       " '스케이트': 12,\n",
       " '이색찜질방': 11,\n",
       " '컨벤션센터': 11,\n",
       " '군립공원': 11,\n",
       " '수상레포츠': 11,\n",
       " '카약/카누': 10,\n",
       " '식음료': 10,\n",
       " '사격장': 9,\n",
       " '학교': 9,\n",
       " '헹글라이딩/패러글라이딩': 9,\n",
       " '터널': 8,\n",
       " '분수': 8,\n",
       " '스노쿨링/스킨스쿠버다이빙': 7,\n",
       " '카트': 7,\n",
       " '외국문화원': 7,\n",
       " '전통공연': 6,\n",
       " '이색체험': 6,\n",
       " '스키/스노보드': 6,\n",
       " '면세점': 6,\n",
       " '클럽': 6,\n",
       " '연극': 5,\n",
       " '영화관': 4,\n",
       " '빙벽등반': 4,\n",
       " '카지노': 4,\n",
       " '번지점프': 4,\n",
       " 'ATV': 4,\n",
       " '발전소': 4,\n",
       " '백화점': 4,\n",
       " '대중콘서트': 2,\n",
       " '스카이다이빙': 2,\n",
       " '인라인(실내 인라인 포함)': 2,\n",
       " '클래식음악회': 2,\n",
       " '뮤지컬': 2,\n",
       " 'MTB': 2}"
      ]
     },
     "execution_count": 18,
     "metadata": {},
     "output_type": "execute_result"
    }
   ],
   "source": [
    "dict(df['cat3'].value_counts())\n"
   ]
  },
  {
   "cell_type": "code",
   "execution_count": 19,
   "metadata": {},
   "outputs": [
    {
     "name": "stdout",
     "output_type": "stream",
     "text": [
      "132.703125\n"
     ]
    }
   ],
   "source": [
    "import numpy as np\n",
    "print(np.mean(list(df['cat3'].value_counts())))\n"
   ]
  },
  {
   "cell_type": "code",
   "execution_count": 30,
   "metadata": {},
   "outputs": [
    {
     "name": "stdout",
     "output_type": "stream",
     "text": [
      "{0: 5, 1: 5, 2: 90}\n",
      "[2, 2, 2, 2, 2, 2, 2, 2, 2, 2]\n"
     ]
    }
   ],
   "source": []
  },
  {
   "cell_type": "code",
   "execution_count": 43,
   "metadata": {},
   "outputs": [
    {
     "name": "stdout",
     "output_type": "stream",
     "text": [
      "{0: 10, 1: 10, 2: 80}\n",
      "[2 2 2 2 2 0 1 2 2 1 2 2 2 2 2 2 2 1 2 0 2 2 2 2 0 2 2 2 0 2 2 2 2 2 2 2 2\n",
      " 1 2 2 2 1 2 0 2 2 1 2 2 2 2 2 2 2 2 2 2 2 2 2 2 2 2 2 2 1 0 2 0 2 2 2 2 2\n",
      " 2 1 2 0 0 2 2 2 2 2 2 1 2 2 2 2]\n",
      "[0 2 2 1 2 2 2 2 2 2]\n"
     ]
    }
   ],
   "source": [
    "from torch.utils.data import random_split, DataLoader,Dataset\n",
    "from sklearn.model_selection import train_test_split\n",
    "import torch\n",
    "import numpy as np\n",
    "import collections\n",
    "\n",
    "class CustomDataset(Dataset):\n",
    "    def __init__(self, x_tensor, y_tensor):\n",
    "        self.x = x_tensor\n",
    "        self.y = y_tensor\n",
    "\n",
    "    def __getitem__(self, index):\n",
    "        return (self.x[index], self.y[index])\n",
    "\n",
    "    def __len__(self):\n",
    "        return len(self.x)\n",
    "    \n",
    "    \n",
    "\n",
    "\n",
    "X = np.random.randn(100, 2)\n",
    "y = np.array([0]*10+[1]*10 +[2]*80)\n",
    "# print(y)\n",
    "c = collections.Counter(y)\n",
    "print(dict(c))\n",
    "\n",
    "\n",
    "\n",
    "\n",
    "\n",
    "X_train, X_test, y_train, y_test = train_test_split(X, y, test_size=0.1,stratify=y)\n",
    "\n",
    "print(y_train)\n",
    "print(y_test)\n",
    "# for item in val:\n",
    "#     label.append(item[1])\n",
    "    \n",
    "# print(label)\n",
    "\n",
    "\n",
    "# train_dataset = Dataset(X_train, y_train, ...)\n",
    "# train_loader = DataLoader(train_dataset, ...)"
   ]
  },
  {
   "cell_type": "code",
   "execution_count": 47,
   "metadata": {},
   "outputs": [],
   "source": [
    "import pandas as pd\n",
    "\n",
    "df1 = pd.read_csv('./nomal_submit.csv')\n",
    "df2 = pd.read_csv('./focal_loss_submit.csv')\n",
    "\n",
    "data = {\"nomal\":list(df1['cat3']),\"focal\":list(df2['cat3'])}\n",
    "df3 = pd.DataFrame(data)\n",
    "df3.to_csv('./temp.csv')\n"
   ]
  }
 ],
 "metadata": {
  "kernelspec": {
   "display_name": "Python 3.7.0 ('env': venv)",
   "language": "python",
   "name": "python3"
  },
  "language_info": {
   "codemirror_mode": {
    "name": "ipython",
    "version": 3
   },
   "file_extension": ".py",
   "mimetype": "text/x-python",
   "name": "python",
   "nbconvert_exporter": "python",
   "pygments_lexer": "ipython3",
   "version": "3.7.0"
  },
  "orig_nbformat": 4,
  "vscode": {
   "interpreter": {
    "hash": "4a343bfc7efa4c1701031899a7f6f4408b3532fb01783297054a5ede20989faa"
   }
  }
 },
 "nbformat": 4,
 "nbformat_minor": 2
}
