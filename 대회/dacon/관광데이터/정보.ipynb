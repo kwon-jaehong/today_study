{
 "cells": [
  {
   "cell_type": "code",
   "execution_count": 2,
   "metadata": {},
   "outputs": [],
   "source": [
    "import pandas as pd \n",
    "\n",
    "\n",
    "df = pd.read_csv('./train.csv')\n"
   ]
  },
  {
   "cell_type": "code",
   "execution_count": 3,
   "metadata": {},
   "outputs": [
    {
     "name": "stdout",
     "output_type": "stream",
     "text": [
      "['레포츠', '숙박', '음식', '쇼핑', '인문(문화/예술/역사)', '자연'] \n",
      " ['공연/행사', '체험관광지', '항공 레포츠', '숙박시설', '복합 레포츠', '휴양관광지', '역사관광지', '자연관광지', '관광자원', '산업관광지', '레포츠소개', '육상 레포츠', '축제', '쇼핑', '문화시설', '수상 레포츠', '건축/조형물', '음식점'] \n",
      " ['일식', '래프팅', '외국문화원', '식음료', '테마공원', '한식', '유스호스텔', '승마', '번지점프', '스케이트', '자연생태관광지', '생가', '바/까페', '섬', '백화점', '윈드서핑/제트스키', '다리/대교', '문', '채식전문점', '영화관', 'MTB', '대형서점', '일반축제', '뮤지컬', '온천/욕장/스파', '서비스드레지던스', '모텔', '공원', '폭포', '전시관', '동상', '터널', '희귀동.식물', '대중콘서트', '자전거하이킹', '중식', '유명건물', '박람회', '유적지/사적지', '국립공원', 'ATV', '민속마을', '사찰', '민박', '수련시설', '수영', '이색체험', '안보관광', '고택', '스카이다이빙', '민물낚시', '컨벤션', '군립공원', '헬스투어', '약수터', '빙벽등반', '기암괴석', '동굴', '전통공연', '강', '썰매장', '박물관', '미술관/화랑', '연극', '이색거리', '스키/스노보드', '수목원', '5일장', '계곡', '유원지', '문화전수시설', '카약/카누', '골프', '클럽', '공예,공방', '기타행사', '기념관', '펜션', '기타', '발전소', '자연휴양림', '컨벤션센터', '야영장,오토캠핑장', '서양식', '해수욕장', '클래식음악회', '카트', '홈스테이', '분수', '이색찜질방', '고궁', '호수', '카지노', '사격장', '콘도미니엄', '공연장', '도서관', '헹글라이딩/패러글라이딩', '산', '스노쿨링/스킨스쿠버다이빙', '인라인(실내 인라인 포함)', '한옥스테이', '특산물판매점', '요트', '패밀리레스토랑', '수상레포츠', '복합 레포츠', '항구/포구', '트래킹', '유람선/잠수함관광', '기념탑/기념비/전망대', '성', '문화원', '종교성지', '상설시장', '자동차경주', '스키(보드) 렌탈샵', '등대', '전문상가', '문화관광축제', '도립공원', '게스트하우스', '관광단지', '학교', '농.산.어촌 체험', '면세점', '바다낚시', '해안절경']\n",
      "6 18 128\n"
     ]
    }
   ],
   "source": [
    "cols = [\"cat1\",\"cat2\",\"cat3\"]\n",
    "cat_list_data = df[cols].values.tolist()\n",
    "\n",
    "cat1_list = []\n",
    "cat2_list = []\n",
    "cat3_list = []\n",
    "\n",
    "for x in cat_list_data:\n",
    "    cat1_list.append(x[0])\n",
    "    cat2_list.append(x[1])\n",
    "    cat3_list.append(x[2])\n",
    "\n",
    "cat1_list = list(set(cat1_list))\n",
    "cat2_list = list(set(cat2_list))\n",
    "cat3_list = list(set(cat3_list))\n",
    "\n",
    "print(cat1_list,\"\\n\",cat2_list,\"\\n\",cat3_list)\n",
    "print(len(cat1_list),len(cat2_list),len(cat3_list) )"
   ]
  },
  {
   "cell_type": "code",
   "execution_count": 4,
   "metadata": {},
   "outputs": [
    {
     "data": {
      "text/plain": [
       "[5614, 4912, 2611, 1719, 1434, 696]"
      ]
     },
     "execution_count": 4,
     "metadata": {},
     "output_type": "execute_result"
    }
   ],
   "source": [
    "list(df['cat1'].value_counts())"
   ]
  },
  {
   "cell_type": "code",
   "execution_count": 5,
   "metadata": {},
   "outputs": [
    {
     "data": {
      "text/plain": [
       "[4912,\n",
       " 2288,\n",
       " 1578,\n",
       " 1571,\n",
       " 1434,\n",
       " 1220,\n",
       " 889,\n",
       " 805,\n",
       " 696,\n",
       " 569,\n",
       " 328,\n",
       " 277,\n",
       " 141,\n",
       " 139,\n",
       " 93,\n",
       " 24,\n",
       " 11,\n",
       " 11]"
      ]
     },
     "execution_count": 5,
     "metadata": {},
     "output_type": "execute_result"
    }
   ],
   "source": [
    "list(df['cat2'].value_counts())"
   ]
  },
  {
   "cell_type": "code",
   "execution_count": 6,
   "metadata": {},
   "outputs": [
    {
     "name": "stdout",
     "output_type": "stream",
     "text": [
      "128\n",
      "{'한식': 3438, '야영장,오토캠핑장': 1558, '바/까페': 785, '유적지/사적지': 622, '일반축제': 549, '사찰': 495, '이색거리': 467, '펜션': 445, '한옥스테이': 404, '모텔': 340, '농.산.어촌 체험': 332, '박물관': 310, '공원': 271, '상설시장': 270, '트래킹': 246, '전시관': 243, '산': 239, '서양식': 226, '유원지': 211, '중식': 209, '해수욕장': 207, '자연생태관광지': 207, '미술관/화랑': 204, '골프': 179, '전문상가': 173, '테마공원': 172, '5일장': 165, '계곡': 160, '일식': 151, '기념탑/기념비/전망대': 148, '항구/포구': 134, '관광단지': 126, '공연장': 120, '민물낚시': 119, '자연휴양림': 118, '문화원': 113, '섬': 111, '유명건물': 105, '강': 104, '수련시설': 95, '수목원': 95, '고택': 92, '도서관': 92, '희귀동.식물': 88, '성': 85, '게스트하우스': 83, '기타': 79, '민속마을': 76, '기타행사': 71, '종교성지': 65, '기념관': 64, '패밀리레스토랑': 61, '스키(보드) 렌탈샵': 60, '바다낚시': 57, '홈스테이': 57, '기암괴석': 53, '온천/욕장/스파': 53, '생가': 43, '공예,공방': 41, '다리/대교': 41, '폭포': 40, '민박': 39, '특산물판매점': 37, '고궁': 36, '채식전문점': 36, '자동차경주': 35, '콘도미니엄': 34, '안보관광': 34, '호수': 30, '유람선/잠수함관광': 30, '박람회': 29, '윈드서핑/제트스키': 27, '수영': 27, '썰매장': 27, '문화전수시설': 26, '해안절경': 25, '복합 레포츠': 24, '등대': 24, '문': 23, '컨벤션': 22, '국립공원': 21, '승마': 21, '문화관광축제': 20, '유스호스텔': 20, '동굴': 20, '동상': 18, '래프팅': 18, '대형서점': 17, '약수터': 17, '도립공원': 15, '헬스투어': 15, '자전거하이킹': 13, '서비스드레지던스': 12, '스케이트': 12, '요트': 12, '이색찜질방': 11, '군립공원': 11, '수상레포츠': 11, '컨벤션센터': 11, '식음료': 10, '카약/카누': 10, '헹글라이딩/패러글라이딩': 9, '학교': 9, '사격장': 9, '분수': 8, '터널': 8, '외국문화원': 7, '카트': 7, '스노쿨링/스킨스쿠버다이빙': 7, '클럽': 6, '전통공연': 6, '면세점': 6, '이색체험': 6, '스키/스노보드': 6, '연극': 5, '발전소': 4, '카지노': 4, '백화점': 4, '번지점프': 4, '빙벽등반': 4, 'ATV': 4, '영화관': 4, 'MTB': 2, '뮤지컬': 2, '스카이다이빙': 2, '클래식음악회': 2, '대중콘서트': 2, '인라인(실내 인라인 포함)': 2}\n"
     ]
    }
   ],
   "source": [
    "print(len(dict(df['cat3'].value_counts())))\n",
    "print(dict(df['cat3'].value_counts()))\n"
   ]
  },
  {
   "cell_type": "code",
   "execution_count": 23,
   "metadata": {},
   "outputs": [
    {
     "name": "stdout",
     "output_type": "stream",
     "text": [
      "[3438, 1558, 785, 622, 549, 495, 467, 445, 404, 340, 332, 310, 271, 270, 246, 243, 239, 226, 211, 209, 207, 207, 204, 179, 173, 172, 165, 160, 151, 148, 134, 126, 120, 119, 118, 113, 111, 105, 104, 95, 95, 92, 92, 88, 85, 83, 79, 76, 71, 65, 64, 61, 60, 57, 57, 53, 53, 43, 41, 41, 40, 39, 37, 36, 36, 35, 34, 34, 30, 30, 29, 27, 27, 27, 26, 25, 24, 24, 23, 22, 21, 21, 20, 20, 20, 18, 18, 17, 17, 15, 15, 13, 12, 12, 12, 11, 11, 11, 11, 10, 10, 9, 9, 9, 8, 8, 7, 7, 7, 6, 6, 6, 6, 6, 5, 4, 4, 4, 4, 4, 4, 4, 2, 2, 2, 2, 2, 2]\n",
      "[467, 445, 404, 340, 332, 310, 271, 270, 246, 243, 239, 226, 211, 209, 207, 207, 204, 179, 173, 172, 165, 160, 151, 148, 134, 126, 120, 119, 118, 113, 111, 105, 104, 95, 95, 92, 92, 88, 85, 83, 79, 76, 71, 65, 64, 61, 60, 57, 57, 53, 53, 43, 41, 41, 40, 39, 37, 36, 36, 35, 34, 34, 30, 30, 29, 27, 27, 27, 26, 25, 24, 24, 23, 22, 21, 21, 20, 20, 20, 18, 18, 17, 17, 15, 15, 13, 12, 12, 12, 11, 11, 11, 11, 10, 10, 9, 9, 9, 8, 8, 7, 7, 7, 6, 6, 6, 6, 6, 5, 4, 4, 4, 4, 4, 4, 4]\n",
      "36.0\n"
     ]
    }
   ],
   "source": [
    "import numpy as np\n",
    "# print(np.mean(list(df['cat3'].value_counts())))\n",
    "# print(np.median(list(df['cat3'].value_counts())))\n",
    "\n",
    "temp = list(df['cat3'].value_counts())\n",
    "print(temp)\n",
    "# print(temp[2:-13])\n",
    "# print(np.median(temp[2:-13]))\n",
    "\n",
    "# print(len(temp),len(temp)*0.9)\n",
    "# print(int((len(temp)-(len(temp)*0.9))/2),)\n",
    "rate = int((len(temp)-(len(temp)*0.90))/2)\n",
    "print(temp[rate:-rate])\n",
    "print(np.median(temp[rate:-rate]))"
   ]
  },
  {
   "cell_type": "code",
   "execution_count": 8,
   "metadata": {},
   "outputs": [
    {
     "data": {
      "text/html": [
       "<div>\n",
       "<style scoped>\n",
       "    .dataframe tbody tr th:only-of-type {\n",
       "        vertical-align: middle;\n",
       "    }\n",
       "\n",
       "    .dataframe tbody tr th {\n",
       "        vertical-align: top;\n",
       "    }\n",
       "\n",
       "    .dataframe thead th {\n",
       "        text-align: right;\n",
       "    }\n",
       "</style>\n",
       "<table border=\"1\" class=\"dataframe\">\n",
       "  <thead>\n",
       "    <tr style=\"text-align: right;\">\n",
       "      <th></th>\n",
       "      <th>id</th>\n",
       "      <th>img_path</th>\n",
       "      <th>overview</th>\n",
       "      <th>cat1</th>\n",
       "      <th>cat2</th>\n",
       "      <th>cat3</th>\n",
       "    </tr>\n",
       "  </thead>\n",
       "  <tbody>\n",
       "    <tr>\n",
       "      <th>0</th>\n",
       "      <td>TRAIN_00000</td>\n",
       "      <td>./image/train/TRAIN_00000.jpg</td>\n",
       "      <td>소안항은 조용한 섬으로 인근해안이 청정해역으로 일찍이 김 양식을 해서 높은 소득을 ...</td>\n",
       "      <td>자연</td>\n",
       "      <td>자연관광지</td>\n",
       "      <td>항구/포구</td>\n",
       "    </tr>\n",
       "    <tr>\n",
       "      <th>1</th>\n",
       "      <td>TRAIN_00001</td>\n",
       "      <td>./image/train/TRAIN_00001.jpg</td>\n",
       "      <td>경기도 이천시 모가면에 있는 골프장으로 대중제 18홀이다. 회원제로 개장을 했다가 ...</td>\n",
       "      <td>레포츠</td>\n",
       "      <td>육상 레포츠</td>\n",
       "      <td>골프</td>\n",
       "    </tr>\n",
       "    <tr>\n",
       "      <th>2</th>\n",
       "      <td>TRAIN_00002</td>\n",
       "      <td>./image/train/TRAIN_00002.jpg</td>\n",
       "      <td>금오산성숯불갈비는 한우고기만을 전문적으로 취급하고 사용하는 부식 자재 또한 유기농법...</td>\n",
       "      <td>음식</td>\n",
       "      <td>음식점</td>\n",
       "      <td>한식</td>\n",
       "    </tr>\n",
       "    <tr>\n",
       "      <th>3</th>\n",
       "      <td>TRAIN_00003</td>\n",
       "      <td>./image/train/TRAIN_00003.jpg</td>\n",
       "      <td>철판 위에서 요리하는 안동찜닭을 맛볼 수 있는 곳이다. 경상북도 안동시에 있는 한식...</td>\n",
       "      <td>음식</td>\n",
       "      <td>음식점</td>\n",
       "      <td>한식</td>\n",
       "    </tr>\n",
       "    <tr>\n",
       "      <th>4</th>\n",
       "      <td>TRAIN_00004</td>\n",
       "      <td>./image/train/TRAIN_00004.jpg</td>\n",
       "      <td>※ 영업시간 10:30 ~ 20:30\\n\\n3대에 걸쳐 아귀만을 전문으로 취급하는 ...</td>\n",
       "      <td>음식</td>\n",
       "      <td>음식점</td>\n",
       "      <td>한식</td>\n",
       "    </tr>\n",
       "    <tr>\n",
       "      <th>...</th>\n",
       "      <td>...</td>\n",
       "      <td>...</td>\n",
       "      <td>...</td>\n",
       "      <td>...</td>\n",
       "      <td>...</td>\n",
       "      <td>...</td>\n",
       "    </tr>\n",
       "    <tr>\n",
       "      <th>16981</th>\n",
       "      <td>TRAIN_16981</td>\n",
       "      <td>./image/train/TRAIN_16981.jpg</td>\n",
       "      <td>해발 12000m에 자리한 식담겸 카페점문점이다.&lt;br&gt;곤드레밥과 감자전을 판매하고...</td>\n",
       "      <td>음식</td>\n",
       "      <td>음식점</td>\n",
       "      <td>한식</td>\n",
       "    </tr>\n",
       "    <tr>\n",
       "      <th>16982</th>\n",
       "      <td>TRAIN_16982</td>\n",
       "      <td>./image/train/TRAIN_16982.jpg</td>\n",
       "      <td>설악힐호텔은 동해고속도로 속초톨게이트에서 멀지 않은 관광로 변에 있다. 속초의 대표...</td>\n",
       "      <td>숙박</td>\n",
       "      <td>숙박시설</td>\n",
       "      <td>모텔</td>\n",
       "    </tr>\n",
       "    <tr>\n",
       "      <th>16983</th>\n",
       "      <td>TRAIN_16983</td>\n",
       "      <td>./image/train/TRAIN_16983.jpg</td>\n",
       "      <td>충남 서산시 중심가에 위치한 줌모텔은 프라이버스가 보장되는 조용한 공간으로 가치가 ...</td>\n",
       "      <td>숙박</td>\n",
       "      <td>숙박시설</td>\n",
       "      <td>모텔</td>\n",
       "    </tr>\n",
       "    <tr>\n",
       "      <th>16984</th>\n",
       "      <td>TRAIN_16984</td>\n",
       "      <td>./image/train/TRAIN_16984.jpg</td>\n",
       "      <td>토토큰바위캠핑장은 경기도 가평지역 내에서도 청정지역으로 손꼽히는 지역으로 주변에 화...</td>\n",
       "      <td>레포츠</td>\n",
       "      <td>육상 레포츠</td>\n",
       "      <td>야영장,오토캠핑장</td>\n",
       "    </tr>\n",
       "    <tr>\n",
       "      <th>16985</th>\n",
       "      <td>TRAIN_16985</td>\n",
       "      <td>./image/train/TRAIN_16985.jpg</td>\n",
       "      <td>포천의 진산으로 불리우는 왕방산(王訪山)에는 천년의 역사를 간직하고 있는 왕산사(王...</td>\n",
       "      <td>인문(문화/예술/역사)</td>\n",
       "      <td>역사관광지</td>\n",
       "      <td>사찰</td>\n",
       "    </tr>\n",
       "  </tbody>\n",
       "</table>\n",
       "<p>16986 rows × 6 columns</p>\n",
       "</div>"
      ],
      "text/plain": [
       "                id                       img_path  \\\n",
       "0      TRAIN_00000  ./image/train/TRAIN_00000.jpg   \n",
       "1      TRAIN_00001  ./image/train/TRAIN_00001.jpg   \n",
       "2      TRAIN_00002  ./image/train/TRAIN_00002.jpg   \n",
       "3      TRAIN_00003  ./image/train/TRAIN_00003.jpg   \n",
       "4      TRAIN_00004  ./image/train/TRAIN_00004.jpg   \n",
       "...            ...                            ...   \n",
       "16981  TRAIN_16981  ./image/train/TRAIN_16981.jpg   \n",
       "16982  TRAIN_16982  ./image/train/TRAIN_16982.jpg   \n",
       "16983  TRAIN_16983  ./image/train/TRAIN_16983.jpg   \n",
       "16984  TRAIN_16984  ./image/train/TRAIN_16984.jpg   \n",
       "16985  TRAIN_16985  ./image/train/TRAIN_16985.jpg   \n",
       "\n",
       "                                                overview          cat1  \\\n",
       "0      소안항은 조용한 섬으로 인근해안이 청정해역으로 일찍이 김 양식을 해서 높은 소득을 ...            자연   \n",
       "1      경기도 이천시 모가면에 있는 골프장으로 대중제 18홀이다. 회원제로 개장을 했다가 ...           레포츠   \n",
       "2      금오산성숯불갈비는 한우고기만을 전문적으로 취급하고 사용하는 부식 자재 또한 유기농법...            음식   \n",
       "3      철판 위에서 요리하는 안동찜닭을 맛볼 수 있는 곳이다. 경상북도 안동시에 있는 한식...            음식   \n",
       "4      ※ 영업시간 10:30 ~ 20:30\\n\\n3대에 걸쳐 아귀만을 전문으로 취급하는 ...            음식   \n",
       "...                                                  ...           ...   \n",
       "16981  해발 12000m에 자리한 식담겸 카페점문점이다.<br>곤드레밥과 감자전을 판매하고...            음식   \n",
       "16982  설악힐호텔은 동해고속도로 속초톨게이트에서 멀지 않은 관광로 변에 있다. 속초의 대표...            숙박   \n",
       "16983  충남 서산시 중심가에 위치한 줌모텔은 프라이버스가 보장되는 조용한 공간으로 가치가 ...            숙박   \n",
       "16984  토토큰바위캠핑장은 경기도 가평지역 내에서도 청정지역으로 손꼽히는 지역으로 주변에 화...           레포츠   \n",
       "16985  포천의 진산으로 불리우는 왕방산(王訪山)에는 천년의 역사를 간직하고 있는 왕산사(王...  인문(문화/예술/역사)   \n",
       "\n",
       "         cat2       cat3  \n",
       "0       자연관광지      항구/포구  \n",
       "1      육상 레포츠         골프  \n",
       "2         음식점         한식  \n",
       "3         음식점         한식  \n",
       "4         음식점         한식  \n",
       "...       ...        ...  \n",
       "16981     음식점         한식  \n",
       "16982    숙박시설         모텔  \n",
       "16983    숙박시설         모텔  \n",
       "16984  육상 레포츠  야영장,오토캠핑장  \n",
       "16985   역사관광지         사찰  \n",
       "\n",
       "[16986 rows x 6 columns]"
      ]
     },
     "execution_count": 8,
     "metadata": {},
     "output_type": "execute_result"
    }
   ],
   "source": [
    "df "
   ]
  },
  {
   "cell_type": "code",
   "execution_count": 9,
   "metadata": {},
   "outputs": [
    {
     "name": "stdout",
     "output_type": "stream",
     "text": [
      "{0: 10, 1: 10, 2: 80}\n",
      "[2 0 2 0 2 2 2 2 2 1 2 2 2 2 2 2 2 2 2 2 2 2 2 2 2 2 2 2 2 2 0 2 2 2 2 2 2\n",
      " 1 2 2 2 1 2 1 2 0 2 0 2 0 2 2 2 2 2 2 2 1 2 0 2 2 2 2 1 0 2 2 2 2 2 2 2 2\n",
      " 2 2 2 1 2 2 2 2 0 1 2 2 2 1 2 2]\n",
      "[0 2 2 2 2 2 2 2 2 1]\n"
     ]
    }
   ],
   "source": [
    "from torch.utils.data import random_split, DataLoader,Dataset\n",
    "from sklearn.model_selection import train_test_split\n",
    "import torch\n",
    "import numpy as np\n",
    "import collections\n",
    "\n",
    "class CustomDataset(Dataset):\n",
    "    def __init__(self, x_tensor, y_tensor):\n",
    "        self.x = x_tensor\n",
    "        self.y = y_tensor\n",
    "\n",
    "    def __getitem__(self, index):\n",
    "        return (self.x[index], self.y[index])\n",
    "\n",
    "    def __len__(self):\n",
    "        return len(self.x)\n",
    "    \n",
    "    \n",
    "\n",
    "\n",
    "X = np.random.randn(100, 2)\n",
    "y = np.array([0]*10+[1]*10 +[2]*80)\n",
    "# print(y)\n",
    "c = collections.Counter(y)\n",
    "print(dict(c))\n",
    "\n",
    "\n",
    "\n",
    "\n",
    "\n",
    "X_train, X_test, y_train, y_test = train_test_split(X, y, test_size=0.1,stratify=y)\n",
    "\n",
    "print(y_train)\n",
    "print(y_test)\n",
    "# for item in val:\n",
    "#     label.append(item[1])\n",
    "    \n",
    "# print(label)\n",
    "\n",
    "\n",
    "# train_dataset = Dataset(X_train, y_train, ...)\n",
    "# train_loader = DataLoader(train_dataset, ...)"
   ]
  }
 ],
 "metadata": {
  "kernelspec": {
   "display_name": "Python 3.7.0 ('env': venv)",
   "language": "python",
   "name": "python3"
  },
  "language_info": {
   "codemirror_mode": {
    "name": "ipython",
    "version": 3
   },
   "file_extension": ".py",
   "mimetype": "text/x-python",
   "name": "python",
   "nbconvert_exporter": "python",
   "pygments_lexer": "ipython3",
   "version": "3.7.0"
  },
  "orig_nbformat": 4,
  "vscode": {
   "interpreter": {
    "hash": "4a343bfc7efa4c1701031899a7f6f4408b3532fb01783297054a5ede20989faa"
   }
  }
 },
 "nbformat": 4,
 "nbformat_minor": 2
}
