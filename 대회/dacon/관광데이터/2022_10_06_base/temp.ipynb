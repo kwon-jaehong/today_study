{
 "cells": [
  {
   "cell_type": "code",
   "execution_count": 1,
   "metadata": {},
   "outputs": [
    {
     "name": "stdout",
     "output_type": "stream",
     "text": [
      "움직이는 기차에는 중립이 없습니다. 이것은 미국 사회 운동가이자 역사가인 하워드 진의 인용문입니다.\n"
     ]
    },
    {
     "data": {
      "application/vnd.jupyter.widget-view+json": {
       "model_id": "47099a1e3ab74b77922c278d628b0e5a",
       "version_major": 2,
       "version_minor": 0
      },
      "text/plain": [
       "  0%|          | 0/2 [00:00<?, ?it/s]"
      ]
     },
     "metadata": {},
     "output_type": "display_data"
    },
    {
     "name": "stdout",
     "output_type": "stream",
     "text": [
      "['프로그램 개발이 완료된 후 서비스를 진행합니다.', '도움말을 보려면 --help를 입력하십시오.']\n"
     ]
    }
   ],
   "source": [
    "from ktextaug import TextAugmentation\n",
    "\n",
    "sample_text = '달리는 기차 위에 중립은 없다. 미국의 사회 운동가이자 역사학자인 하워드 진이 남긴 격언이다.'\n",
    "sample_texts = ['프로그램 개발이 끝나고 서비스가 진행된다.', '도움말을 보고 싶다면 --help를 입력하면 된다.']\n",
    "agent = TextAugmentation(tokenizer=\"mecab\",\n",
    "                        num_processes=1) # num_process 가 -1 일시 자동으로 가능한 process의 절반으로 할당\n",
    "print(agent.generate(sample_text))     # default is back_translation\n",
    "print(agent.generate(sample_texts))"
   ]
  },
  {
   "cell_type": "code",
   "execution_count": 2,
   "metadata": {},
   "outputs": [
    {
     "name": "stdout",
     "output_type": "stream",
     "text": [
      "움직이는 기차에는 중립이 없습니다. 이것은 미국 사회 운동가이자 역사가인 하워드 진의 인용문입니다.\n"
     ]
    },
    {
     "data": {
      "application/vnd.jupyter.widget-view+json": {
       "model_id": "09200f1c29a14dfbbf514a9c8549e9ca",
       "version_major": 2,
       "version_minor": 0
      },
      "text/plain": [
       "  0%|          | 0/2 [00:00<?, ?it/s]"
      ]
     },
     "metadata": {},
     "output_type": "display_data"
    },
    {
     "name": "stdout",
     "output_type": "stream",
     "text": [
      "['프로그램 개발이 완료된 후 서비스를 진행합니다.', '도움말을 보려면 --help를 입력하십시오.']\n"
     ]
    }
   ],
   "source": [
    "print(agent.generate(sample_text))     # default is back_translation\n",
    "print(agent.generate(sample_texts))"
   ]
  },
  {
   "cell_type": "code",
   "execution_count": null,
   "metadata": {},
   "outputs": [],
   "source": [
    "agent.generate(sample_text,)"
   ]
  }
 ],
 "metadata": {
  "kernelspec": {
   "display_name": "Python 3.7.0 ('env': venv)",
   "language": "python",
   "name": "python3"
  },
  "language_info": {
   "codemirror_mode": {
    "name": "ipython",
    "version": 3
   },
   "file_extension": ".py",
   "mimetype": "text/x-python",
   "name": "python",
   "nbconvert_exporter": "python",
   "pygments_lexer": "ipython3",
   "version": "3.7.0"
  },
  "orig_nbformat": 4,
  "vscode": {
   "interpreter": {
    "hash": "4a343bfc7efa4c1701031899a7f6f4408b3532fb01783297054a5ede20989faa"
   }
  }
 },
 "nbformat": 4,
 "nbformat_minor": 2
}
