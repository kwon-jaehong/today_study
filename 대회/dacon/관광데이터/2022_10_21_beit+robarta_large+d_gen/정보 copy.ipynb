{
 "cells": [
  {
   "cell_type": "code",
   "execution_count": 22,
   "metadata": {},
   "outputs": [],
   "source": [
    "import pandas as pd \n",
    "\n",
    "\n",
    "df = pd.read_csv('../train.csv')\n",
    "temp_dict = list(set(list(df['cat3'])))\n",
    "temp_dict.sort()\n",
    "# temp_dict\n",
    "num2label = {i:x for i,x in enumerate(temp_dict)}\n",
    "label2num = {x:i for i,x in enumerate(temp_dict)}\n",
    "# num2label"
   ]
  },
  {
   "cell_type": "code",
   "execution_count": 27,
   "metadata": {},
   "outputs": [],
   "source": [
    "# num2label"
   ]
  },
  {
   "cell_type": "code",
   "execution_count": 30,
   "metadata": {},
   "outputs": [
    {
     "data": {
      "text/html": [
       "<div>\n",
       "<style scoped>\n",
       "    .dataframe tbody tr th:only-of-type {\n",
       "        vertical-align: middle;\n",
       "    }\n",
       "\n",
       "    .dataframe tbody tr th {\n",
       "        vertical-align: top;\n",
       "    }\n",
       "\n",
       "    .dataframe thead th {\n",
       "        text-align: right;\n",
       "    }\n",
       "</style>\n",
       "<table border=\"1\" class=\"dataframe\">\n",
       "  <thead>\n",
       "    <tr style=\"text-align: right;\">\n",
       "      <th></th>\n",
       "      <th>id</th>\n",
       "      <th>cat3</th>\n",
       "      <th>cat3d</th>\n",
       "    </tr>\n",
       "  </thead>\n",
       "  <tbody>\n",
       "    <tr>\n",
       "      <th>0</th>\n",
       "      <td>TEST_00000</td>\n",
       "      <td>한식</td>\n",
       "      <td>한식</td>\n",
       "    </tr>\n",
       "    <tr>\n",
       "      <th>1</th>\n",
       "      <td>TEST_00001</td>\n",
       "      <td>한식</td>\n",
       "      <td>한식</td>\n",
       "    </tr>\n",
       "    <tr>\n",
       "      <th>2</th>\n",
       "      <td>TEST_00002</td>\n",
       "      <td>한식</td>\n",
       "      <td>한식</td>\n",
       "    </tr>\n",
       "    <tr>\n",
       "      <th>3</th>\n",
       "      <td>TEST_00003</td>\n",
       "      <td>수련시설</td>\n",
       "      <td>수련시설</td>\n",
       "    </tr>\n",
       "    <tr>\n",
       "      <th>4</th>\n",
       "      <td>TEST_00004</td>\n",
       "      <td>산</td>\n",
       "      <td>산</td>\n",
       "    </tr>\n",
       "    <tr>\n",
       "      <th>...</th>\n",
       "      <td>...</td>\n",
       "      <td>...</td>\n",
       "      <td>...</td>\n",
       "    </tr>\n",
       "    <tr>\n",
       "      <th>7275</th>\n",
       "      <td>TEST_07275</td>\n",
       "      <td>한식</td>\n",
       "      <td>한식</td>\n",
       "    </tr>\n",
       "    <tr>\n",
       "      <th>7276</th>\n",
       "      <td>TEST_07276</td>\n",
       "      <td>공연장</td>\n",
       "      <td>공연장</td>\n",
       "    </tr>\n",
       "    <tr>\n",
       "      <th>7277</th>\n",
       "      <td>TEST_07277</td>\n",
       "      <td>야영장,오토캠핑장</td>\n",
       "      <td>야영장,오토캠핑장</td>\n",
       "    </tr>\n",
       "    <tr>\n",
       "      <th>7278</th>\n",
       "      <td>TEST_07278</td>\n",
       "      <td>모텔</td>\n",
       "      <td>모텔</td>\n",
       "    </tr>\n",
       "    <tr>\n",
       "      <th>7279</th>\n",
       "      <td>TEST_07279</td>\n",
       "      <td>박물관</td>\n",
       "      <td>박물관</td>\n",
       "    </tr>\n",
       "  </tbody>\n",
       "</table>\n",
       "<p>7280 rows × 3 columns</p>\n",
       "</div>"
      ],
      "text/plain": [
       "              id       cat3      cat3d\n",
       "0     TEST_00000         한식         한식\n",
       "1     TEST_00001         한식         한식\n",
       "2     TEST_00002         한식         한식\n",
       "3     TEST_00003       수련시설       수련시설\n",
       "4     TEST_00004          산          산\n",
       "...          ...        ...        ...\n",
       "7275  TEST_07275         한식         한식\n",
       "7276  TEST_07276        공연장        공연장\n",
       "7277  TEST_07277  야영장,오토캠핑장  야영장,오토캠핑장\n",
       "7278  TEST_07278         모텔         모텔\n",
       "7279  TEST_07279        박물관        박물관\n",
       "\n",
       "[7280 rows x 3 columns]"
      ]
     },
     "execution_count": 30,
     "metadata": {},
     "output_type": "execute_result"
    }
   ],
   "source": [
    "target_df = pd.read_csv('./어제.csv')\n",
    "target_df\n",
    "# target_df['e0'] = target_df['e0'].apply(lambda x:num2label[x])\n",
    "# target_df['e1'] = target_df['e1'].apply(lambda x:num2label[x])\n",
    "# target_df['e2'] = target_df['e2'].apply(lambda x:num2label[x])\n",
    "# target_df['e3'] = target_df['e3'].apply(lambda x:num2label[x])\n",
    "# target_df['e4'] = target_df['e4'].apply(lambda x:num2label[x])\n",
    "# target_df['e5'] = target_df['e5'].apply(lambda x:num2label[x])\n",
    "# target_df['e6'] = target_df['e6'].apply(lambda x:num2label[x])\n",
    "# target_df['e7'] = target_df['e7'].apply(lambda x:num2label[x])\n",
    "# target_df['e8'] = target_df['e8'].apply(lambda x:num2label[x])\n",
    "# target_df['e9'] = target_df['e9'].apply(lambda x:num2label[x])\n",
    "\n",
    "# target_df.to_csv('./비교.csv')"
   ]
  },
  {
   "cell_type": "code",
   "execution_count": 28,
   "metadata": {},
   "outputs": [],
   "source": [
    "\n",
    "target_df['diff'] = target_df.apply(lambda x:x['cat3']==x['cat3d'],axis=1)\n",
    "# target_df.to_csv('./비교.csv')"
   ]
  },
  {
   "cell_type": "code",
   "execution_count": 29,
   "metadata": {},
   "outputs": [
    {
     "data": {
      "text/plain": [
       "diff\n",
       "False     484\n",
       "True     6796\n",
       "dtype: int64"
      ]
     },
     "execution_count": 29,
     "metadata": {},
     "output_type": "execute_result"
    }
   ],
   "source": [
    "target_df.groupby('diff').size()"
   ]
  },
  {
   "cell_type": "code",
   "execution_count": null,
   "metadata": {},
   "outputs": [],
   "source": []
  },
  {
   "cell_type": "code",
   "execution_count": null,
   "metadata": {},
   "outputs": [],
   "source": []
  }
 ],
 "metadata": {
  "kernelspec": {
   "display_name": "Python 3.7.0 ('env': venv)",
   "language": "python",
   "name": "python3"
  },
  "language_info": {
   "codemirror_mode": {
    "name": "ipython",
    "version": 3
   },
   "file_extension": ".py",
   "mimetype": "text/x-python",
   "name": "python",
   "nbconvert_exporter": "python",
   "pygments_lexer": "ipython3",
   "version": "3.7.0"
  },
  "orig_nbformat": 4,
  "vscode": {
   "interpreter": {
    "hash": "4a343bfc7efa4c1701031899a7f6f4408b3532fb01783297054a5ede20989faa"
   }
  }
 },
 "nbformat": 4,
 "nbformat_minor": 2
}
