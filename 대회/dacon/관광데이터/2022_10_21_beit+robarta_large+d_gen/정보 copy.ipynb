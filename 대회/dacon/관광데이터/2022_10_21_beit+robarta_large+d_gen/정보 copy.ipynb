{
 "cells": [
  {
   "cell_type": "code",
   "execution_count": 15,
   "metadata": {},
   "outputs": [],
   "source": [
    "import pandas as pd \n",
    "\n",
    "\n",
    "df = pd.read_csv('../train.csv')\n",
    "temp_dict = list(set(list(df['cat3'])))\n",
    "temp_dict.sort()\n",
    "# temp_dict\n",
    "num2label = {i:x for i,x in enumerate(temp_dict)}\n",
    "label2num = {x:i for i,x in enumerate(temp_dict)}\n",
    "# num2label"
   ]
  },
  {
   "cell_type": "code",
   "execution_count": 16,
   "metadata": {},
   "outputs": [],
   "source": [
    "# num2label"
   ]
  },
  {
   "cell_type": "code",
   "execution_count": 17,
   "metadata": {},
   "outputs": [
    {
     "data": {
      "text/html": [
       "<div>\n",
       "<style scoped>\n",
       "    .dataframe tbody tr th:only-of-type {\n",
       "        vertical-align: middle;\n",
       "    }\n",
       "\n",
       "    .dataframe tbody tr th {\n",
       "        vertical-align: top;\n",
       "    }\n",
       "\n",
       "    .dataframe thead th {\n",
       "        text-align: right;\n",
       "    }\n",
       "</style>\n",
       "<table border=\"1\" class=\"dataframe\">\n",
       "  <thead>\n",
       "    <tr style=\"text-align: right;\">\n",
       "      <th></th>\n",
       "      <th>id</th>\n",
       "      <th>my_labeling</th>\n",
       "      <th>f1</th>\n",
       "      <th>f1_w</th>\n",
       "      <th>f1_val</th>\n",
       "      <th>f1_valw</th>\n",
       "    </tr>\n",
       "  </thead>\n",
       "  <tbody>\n",
       "    <tr>\n",
       "      <th>0</th>\n",
       "      <td>TEST_00000</td>\n",
       "      <td>한식</td>\n",
       "      <td>한식</td>\n",
       "      <td>한식</td>\n",
       "      <td>한식</td>\n",
       "      <td>한식</td>\n",
       "    </tr>\n",
       "    <tr>\n",
       "      <th>1</th>\n",
       "      <td>TEST_00001</td>\n",
       "      <td>한식</td>\n",
       "      <td>한식</td>\n",
       "      <td>한식</td>\n",
       "      <td>한식</td>\n",
       "      <td>한식</td>\n",
       "    </tr>\n",
       "    <tr>\n",
       "      <th>2</th>\n",
       "      <td>TEST_00002</td>\n",
       "      <td>한식</td>\n",
       "      <td>한식</td>\n",
       "      <td>한식</td>\n",
       "      <td>한식</td>\n",
       "      <td>한식</td>\n",
       "    </tr>\n",
       "    <tr>\n",
       "      <th>3</th>\n",
       "      <td>TEST_00003</td>\n",
       "      <td>수련시설</td>\n",
       "      <td>수련시설</td>\n",
       "      <td>수련시설</td>\n",
       "      <td>수련시설</td>\n",
       "      <td>수련시설</td>\n",
       "    </tr>\n",
       "    <tr>\n",
       "      <th>4</th>\n",
       "      <td>TEST_00004</td>\n",
       "      <td>산</td>\n",
       "      <td>자연생태관광지</td>\n",
       "      <td>자연생태관광지</td>\n",
       "      <td>산</td>\n",
       "      <td>산</td>\n",
       "    </tr>\n",
       "    <tr>\n",
       "      <th>...</th>\n",
       "      <td>...</td>\n",
       "      <td>...</td>\n",
       "      <td>...</td>\n",
       "      <td>...</td>\n",
       "      <td>...</td>\n",
       "      <td>...</td>\n",
       "    </tr>\n",
       "    <tr>\n",
       "      <th>7275</th>\n",
       "      <td>TEST_07275</td>\n",
       "      <td>한식</td>\n",
       "      <td>한식</td>\n",
       "      <td>한식</td>\n",
       "      <td>한식</td>\n",
       "      <td>한식</td>\n",
       "    </tr>\n",
       "    <tr>\n",
       "      <th>7276</th>\n",
       "      <td>TEST_07276</td>\n",
       "      <td>공연장</td>\n",
       "      <td>공연장</td>\n",
       "      <td>공연장</td>\n",
       "      <td>공연장</td>\n",
       "      <td>공연장</td>\n",
       "    </tr>\n",
       "    <tr>\n",
       "      <th>7277</th>\n",
       "      <td>TEST_07277</td>\n",
       "      <td>야영장,오토캠핑장</td>\n",
       "      <td>야영장,오토캠핑장</td>\n",
       "      <td>야영장,오토캠핑장</td>\n",
       "      <td>야영장,오토캠핑장</td>\n",
       "      <td>야영장,오토캠핑장</td>\n",
       "    </tr>\n",
       "    <tr>\n",
       "      <th>7278</th>\n",
       "      <td>TEST_07278</td>\n",
       "      <td>모텔</td>\n",
       "      <td>모텔</td>\n",
       "      <td>모텔</td>\n",
       "      <td>모텔</td>\n",
       "      <td>모텔</td>\n",
       "    </tr>\n",
       "    <tr>\n",
       "      <th>7279</th>\n",
       "      <td>TEST_07279</td>\n",
       "      <td>박물관</td>\n",
       "      <td>박물관</td>\n",
       "      <td>박물관</td>\n",
       "      <td>박물관</td>\n",
       "      <td>박물관</td>\n",
       "    </tr>\n",
       "  </tbody>\n",
       "</table>\n",
       "<p>7280 rows × 6 columns</p>\n",
       "</div>"
      ],
      "text/plain": [
       "              id my_labeling         f1       f1_w     f1_val    f1_valw\n",
       "0     TEST_00000          한식         한식         한식         한식         한식\n",
       "1     TEST_00001          한식         한식         한식         한식         한식\n",
       "2     TEST_00002          한식         한식         한식         한식         한식\n",
       "3     TEST_00003        수련시설       수련시설       수련시설       수련시설       수련시설\n",
       "4     TEST_00004           산    자연생태관광지    자연생태관광지          산          산\n",
       "...          ...         ...        ...        ...        ...        ...\n",
       "7275  TEST_07275          한식         한식         한식         한식         한식\n",
       "7276  TEST_07276         공연장        공연장        공연장        공연장        공연장\n",
       "7277  TEST_07277   야영장,오토캠핑장  야영장,오토캠핑장  야영장,오토캠핑장  야영장,오토캠핑장  야영장,오토캠핑장\n",
       "7278  TEST_07278          모텔         모텔         모텔         모텔         모텔\n",
       "7279  TEST_07279         박물관        박물관        박물관        박물관        박물관\n",
       "\n",
       "[7280 rows x 6 columns]"
      ]
     },
     "execution_count": 17,
     "metadata": {},
     "output_type": "execute_result"
    }
   ],
   "source": [
    "target_df = pd.read_csv('./fold10_비교.csv')\n",
    "target_df\n"
   ]
  },
  {
   "cell_type": "code",
   "execution_count": 18,
   "metadata": {},
   "outputs": [],
   "source": [
    "\n",
    "target_df['dif_f1'] = target_df.apply(lambda x:x['my_labeling']==x['f1'],axis=1)\n",
    "target_df['diff_f1_w'] = target_df.apply(lambda x:x['my_labeling']==x['f1_w'],axis=1)\n",
    "target_df['diff_f1_val'] = target_df.apply(lambda x:x['my_labeling']==x['f1_val'],axis=1)\n",
    "target_df['diff_f1_valw'] = target_df.apply(lambda x:x['my_labeling']==x['f1_valw'],axis=1)\n",
    "\n",
    "target_df.to_csv('./비교3.csv')"
   ]
  },
  {
   "cell_type": "code",
   "execution_count": 19,
   "metadata": {},
   "outputs": [
    {
     "data": {
      "text/plain": [
       "dif_f1\n",
       "False     361\n",
       "True     6919\n",
       "dtype: int64"
      ]
     },
     "execution_count": 19,
     "metadata": {},
     "output_type": "execute_result"
    }
   ],
   "source": [
    "target_df.groupby('dif_f1').size()"
   ]
  },
  {
   "cell_type": "code",
   "execution_count": 20,
   "metadata": {},
   "outputs": [
    {
     "data": {
      "text/plain": [
       "diff_f1_w\n",
       "False     386\n",
       "True     6894\n",
       "dtype: int64"
      ]
     },
     "execution_count": 20,
     "metadata": {},
     "output_type": "execute_result"
    }
   ],
   "source": [
    "target_df.groupby('diff_f1_w').size()"
   ]
  },
  {
   "cell_type": "code",
   "execution_count": 21,
   "metadata": {},
   "outputs": [
    {
     "data": {
      "text/plain": [
       "diff_f1_val\n",
       "False     462\n",
       "True     6818\n",
       "dtype: int64"
      ]
     },
     "execution_count": 21,
     "metadata": {},
     "output_type": "execute_result"
    }
   ],
   "source": [
    "target_df.groupby('diff_f1_val').size()"
   ]
  },
  {
   "cell_type": "code",
   "execution_count": 22,
   "metadata": {},
   "outputs": [
    {
     "data": {
      "text/plain": [
       "diff_f1_valw\n",
       "False     462\n",
       "True     6818\n",
       "dtype: int64"
      ]
     },
     "execution_count": 22,
     "metadata": {},
     "output_type": "execute_result"
    }
   ],
   "source": [
    "target_df.groupby('diff_f1_valw').size()"
   ]
  }
 ],
 "metadata": {
  "kernelspec": {
   "display_name": "Python 3.7.0 ('env': venv)",
   "language": "python",
   "name": "python3"
  },
  "language_info": {
   "codemirror_mode": {
    "name": "ipython",
    "version": 3
   },
   "file_extension": ".py",
   "mimetype": "text/x-python",
   "name": "python",
   "nbconvert_exporter": "python",
   "pygments_lexer": "ipython3",
   "version": "3.7.0"
  },
  "orig_nbformat": 4,
  "vscode": {
   "interpreter": {
    "hash": "4a343bfc7efa4c1701031899a7f6f4408b3532fb01783297054a5ede20989faa"
   }
  }
 },
 "nbformat": 4,
 "nbformat_minor": 2
}
