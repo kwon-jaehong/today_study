{
 "cells": [
  {
   "cell_type": "code",
   "execution_count": 8,
   "metadata": {},
   "outputs": [
    {
     "name": "stdout",
     "output_type": "stream",
     "text": [
      "Translated(src=zh-TW, dest=en, text=Translated(src=ko, dest=zh-tw, text=대삼거리 마고플레인 대구점)은 경상북도 경산시 양읍에 위치하고 있습니다. 경산뿐만 아니라 인근 대구에서도 많은 사람들이 찾는 경산 최대 베이커리 카페.\n",
      "대표 메뉴는 아메리카노로 녹차 인절미, 오징어물 크림치즈, 사과 유자차 소다를 맛볼 수 있다. 특히, 구운 종류는 천연 효모를 발효시켜 만든다.\n",
      "경산IC와 매우 가깝고 하양유원지가 바로 옆에 있습니다. , 발음=[[], []], extra_data=\"{'translat...\"), 발음=[[]], extra_data=\"{'translat...\")\n",
      "Translated(src=ko, dest=zh-tw, text=Magoplane Daesamgeori branch in Daegu is located in Yang-eup, Gyeongsan-si, Gyeongsangbuk-do. As the largest bakery cafe in Gyeongsan, not only in Gyeongsan, but also in neighboring Daegu, many people visit.\n",
      "The representative menu is Americano, and you can taste green tea injeolmi, squid water cream cheese and apple yuzu tea soda. In particular, baked types are made by fermenting natural yeast.\n",
      "It is very close to Gyeongsan IC, and there is Hayang Amusement Park nearby. , pronunciation=[[], []], extra_data=\"{'translat...\")\n"
     ]
    }
   ],
   "source": [
    "import googletrans\n",
    "\n",
    "translator = googletrans.Translator()\n",
    "\n",
    "str1 = \"나는 한국인 입니다.\"\n",
    "str2 = \"I like burger.\"\n",
    "\n",
    "\n",
    "temp = \"\"\"\n",
    "마고플레인 대구대삼거리 점은 경북 경산시 진량읍에 자리 잡고 있다. 경산 최대 규모의 베이커리 카페로 경산뿐 아니라 근교인 대구에서도 많은 사람이 찾는다. \n",
    "대표 메뉴는 아메리카노이며, 녹차 인절미, 오징어 물 크림 치즈, 애플 자몽티 에이드 등을 맛볼 수 있다. 특히 베이커리 종류는 천연 효모를 발효해 만든다.  \n",
    "경산IC에서 가깝고, 인근에 하양유원지가 있다.\n",
    "\"\"\"\n",
    "\n",
    "result1 = translator.translate(temp,src='ko', dest='zh-tw')\n",
    "result2 = translator.translate(result1,src='zh-tw', dest='en')\n",
    "result3 = translator.translate(result2,src='en', dest='ko')\n",
    "\n",
    "print(result3.text)\n",
    "print(result2.text)"
   ]
  }
 ],
 "metadata": {
  "kernelspec": {
   "display_name": "Python 3.7.0 ('env': venv)",
   "language": "python",
   "name": "python3"
  },
  "language_info": {
   "codemirror_mode": {
    "name": "ipython",
    "version": 3
   },
   "file_extension": ".py",
   "mimetype": "text/x-python",
   "name": "python",
   "nbconvert_exporter": "python",
   "pygments_lexer": "ipython3",
   "version": "3.7.0"
  },
  "orig_nbformat": 4,
  "vscode": {
   "interpreter": {
    "hash": "4a343bfc7efa4c1701031899a7f6f4408b3532fb01783297054a5ede20989faa"
   }
  }
 },
 "nbformat": 4,
 "nbformat_minor": 2
}
