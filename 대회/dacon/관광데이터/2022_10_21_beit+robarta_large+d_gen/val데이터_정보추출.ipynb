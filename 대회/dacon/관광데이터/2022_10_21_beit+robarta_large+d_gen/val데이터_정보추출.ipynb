{
 "cells": [
  {
   "cell_type": "code",
   "execution_count": 89,
   "metadata": {},
   "outputs": [],
   "source": [
    "import pandas as pd\n",
    "\n",
    "## 전체 train sample\n",
    "df = pd.read_csv('../train.csv',index_col=0)\n",
    "set_level_list_3 = list(set(list(df['cat3'])))\n",
    "set_level_list_3.sort()            \n",
    "label_2_number = {label:i for i,label in enumerate(set_level_list_3)}\n",
    "number_2_label = {i:label for i,label in enumerate(set_level_list_3)}"
   ]
  },
  {
   "cell_type": "code",
   "execution_count": 90,
   "metadata": {},
   "outputs": [
    {
     "data": {
      "text/html": [
       "<div>\n",
       "<style scoped>\n",
       "    .dataframe tbody tr th:only-of-type {\n",
       "        vertical-align: middle;\n",
       "    }\n",
       "\n",
       "    .dataframe tbody tr th {\n",
       "        vertical-align: top;\n",
       "    }\n",
       "\n",
       "    .dataframe thead th {\n",
       "        text-align: right;\n",
       "    }\n",
       "</style>\n",
       "<table border=\"1\" class=\"dataframe\">\n",
       "  <thead>\n",
       "    <tr style=\"text-align: right;\">\n",
       "      <th></th>\n",
       "      <th>index</th>\n",
       "      <th>val_전체수</th>\n",
       "    </tr>\n",
       "  </thead>\n",
       "  <tbody>\n",
       "    <tr>\n",
       "      <th>0</th>\n",
       "      <td>5일장</td>\n",
       "      <td>18.0</td>\n",
       "    </tr>\n",
       "    <tr>\n",
       "      <th>1</th>\n",
       "      <td>ATV</td>\n",
       "      <td>1.0</td>\n",
       "    </tr>\n",
       "    <tr>\n",
       "      <th>2</th>\n",
       "      <td>MTB</td>\n",
       "      <td>NaN</td>\n",
       "    </tr>\n",
       "    <tr>\n",
       "      <th>3</th>\n",
       "      <td>강</td>\n",
       "      <td>10.0</td>\n",
       "    </tr>\n",
       "    <tr>\n",
       "      <th>4</th>\n",
       "      <td>게스트하우스</td>\n",
       "      <td>11.0</td>\n",
       "    </tr>\n",
       "    <tr>\n",
       "      <th>...</th>\n",
       "      <td>...</td>\n",
       "      <td>...</td>\n",
       "    </tr>\n",
       "    <tr>\n",
       "      <th>123</th>\n",
       "      <td>헬스투어</td>\n",
       "      <td>2.0</td>\n",
       "    </tr>\n",
       "    <tr>\n",
       "      <th>124</th>\n",
       "      <td>헹글라이딩/패러글라이딩</td>\n",
       "      <td>1.0</td>\n",
       "    </tr>\n",
       "    <tr>\n",
       "      <th>125</th>\n",
       "      <td>호수</td>\n",
       "      <td>4.0</td>\n",
       "    </tr>\n",
       "    <tr>\n",
       "      <th>126</th>\n",
       "      <td>홈스테이</td>\n",
       "      <td>8.0</td>\n",
       "    </tr>\n",
       "    <tr>\n",
       "      <th>127</th>\n",
       "      <td>희귀동.식물</td>\n",
       "      <td>7.0</td>\n",
       "    </tr>\n",
       "  </tbody>\n",
       "</table>\n",
       "<p>128 rows × 2 columns</p>\n",
       "</div>"
      ],
      "text/plain": [
       "            index  val_전체수\n",
       "0             5일장     18.0\n",
       "1             ATV      1.0\n",
       "2             MTB      NaN\n",
       "3               강     10.0\n",
       "4          게스트하우스     11.0\n",
       "..            ...      ...\n",
       "123          헬스투어      2.0\n",
       "124  헹글라이딩/패러글라이딩      1.0\n",
       "125            호수      4.0\n",
       "126          홈스테이      8.0\n",
       "127        희귀동.식물      7.0\n",
       "\n",
       "[128 rows x 2 columns]"
      ]
     },
     "execution_count": 90,
     "metadata": {},
     "output_type": "execute_result"
    }
   ],
   "source": [
    "## 베스트 모델 추론할때 soft 보팅의 웨이트값을 찾기 위함\n",
    "result_df = pd.DataFrame(list(label_2_number.keys()),columns=['index'])\n",
    "\n",
    "target_df = pd.read_csv('./data_save_temp/fold_3_epoch_15_valdf_rank_0.csv')\n",
    "\n",
    "target_df = target_df[['id','cat3','predict_label_number','target','predict_correct']]\n",
    "df1 = target_df['cat3'].value_counts().to_frame(name='val_전체수').reset_index()\n",
    "df2 = target_df.groupby(['cat3'])['predict_correct'].sum().to_frame(name='val_정답수').reset_index()\n",
    "result_df = pd.merge(left = result_df , right = df1, left_on = \"index\",right_on = \"index\", how = \"left\")\n",
    "result_df\n"
   ]
  },
  {
   "cell_type": "code",
   "execution_count": 91,
   "metadata": {},
   "outputs": [
    {
     "data": {
      "text/html": [
       "<div>\n",
       "<style scoped>\n",
       "    .dataframe tbody tr th:only-of-type {\n",
       "        vertical-align: middle;\n",
       "    }\n",
       "\n",
       "    .dataframe tbody tr th {\n",
       "        vertical-align: top;\n",
       "    }\n",
       "\n",
       "    .dataframe thead th {\n",
       "        text-align: right;\n",
       "    }\n",
       "</style>\n",
       "<table border=\"1\" class=\"dataframe\">\n",
       "  <thead>\n",
       "    <tr style=\"text-align: right;\">\n",
       "      <th></th>\n",
       "      <th>index</th>\n",
       "      <th>val_전체수</th>\n",
       "      <th>val_정답수</th>\n",
       "      <th>val_틀린수</th>\n",
       "      <th>acc</th>\n",
       "    </tr>\n",
       "  </thead>\n",
       "  <tbody>\n",
       "    <tr>\n",
       "      <th>0</th>\n",
       "      <td>5일장</td>\n",
       "      <td>18.0</td>\n",
       "      <td>16.0</td>\n",
       "      <td>2.0</td>\n",
       "      <td>0.888889</td>\n",
       "    </tr>\n",
       "    <tr>\n",
       "      <th>1</th>\n",
       "      <td>ATV</td>\n",
       "      <td>1.0</td>\n",
       "      <td>1.0</td>\n",
       "      <td>0.0</td>\n",
       "      <td>1.000000</td>\n",
       "    </tr>\n",
       "    <tr>\n",
       "      <th>2</th>\n",
       "      <td>MTB</td>\n",
       "      <td>0.0</td>\n",
       "      <td>0.0</td>\n",
       "      <td>0.0</td>\n",
       "      <td>0.000000</td>\n",
       "    </tr>\n",
       "    <tr>\n",
       "      <th>3</th>\n",
       "      <td>강</td>\n",
       "      <td>10.0</td>\n",
       "      <td>5.0</td>\n",
       "      <td>5.0</td>\n",
       "      <td>0.500000</td>\n",
       "    </tr>\n",
       "    <tr>\n",
       "      <th>4</th>\n",
       "      <td>게스트하우스</td>\n",
       "      <td>11.0</td>\n",
       "      <td>10.0</td>\n",
       "      <td>1.0</td>\n",
       "      <td>0.909091</td>\n",
       "    </tr>\n",
       "    <tr>\n",
       "      <th>...</th>\n",
       "      <td>...</td>\n",
       "      <td>...</td>\n",
       "      <td>...</td>\n",
       "      <td>...</td>\n",
       "      <td>...</td>\n",
       "    </tr>\n",
       "    <tr>\n",
       "      <th>123</th>\n",
       "      <td>헬스투어</td>\n",
       "      <td>2.0</td>\n",
       "      <td>1.0</td>\n",
       "      <td>1.0</td>\n",
       "      <td>0.500000</td>\n",
       "    </tr>\n",
       "    <tr>\n",
       "      <th>124</th>\n",
       "      <td>헹글라이딩/패러글라이딩</td>\n",
       "      <td>1.0</td>\n",
       "      <td>0.0</td>\n",
       "      <td>1.0</td>\n",
       "      <td>0.000000</td>\n",
       "    </tr>\n",
       "    <tr>\n",
       "      <th>125</th>\n",
       "      <td>호수</td>\n",
       "      <td>4.0</td>\n",
       "      <td>0.0</td>\n",
       "      <td>4.0</td>\n",
       "      <td>0.000000</td>\n",
       "    </tr>\n",
       "    <tr>\n",
       "      <th>126</th>\n",
       "      <td>홈스테이</td>\n",
       "      <td>8.0</td>\n",
       "      <td>2.0</td>\n",
       "      <td>6.0</td>\n",
       "      <td>0.250000</td>\n",
       "    </tr>\n",
       "    <tr>\n",
       "      <th>127</th>\n",
       "      <td>희귀동.식물</td>\n",
       "      <td>7.0</td>\n",
       "      <td>5.0</td>\n",
       "      <td>2.0</td>\n",
       "      <td>0.714286</td>\n",
       "    </tr>\n",
       "  </tbody>\n",
       "</table>\n",
       "<p>128 rows × 5 columns</p>\n",
       "</div>"
      ],
      "text/plain": [
       "            index  val_전체수  val_정답수  val_틀린수       acc\n",
       "0             5일장     18.0     16.0      2.0  0.888889\n",
       "1             ATV      1.0      1.0      0.0  1.000000\n",
       "2             MTB      0.0      0.0      0.0  0.000000\n",
       "3               강     10.0      5.0      5.0  0.500000\n",
       "4          게스트하우스     11.0     10.0      1.0  0.909091\n",
       "..            ...      ...      ...      ...       ...\n",
       "123          헬스투어      2.0      1.0      1.0  0.500000\n",
       "124  헹글라이딩/패러글라이딩      1.0      0.0      1.0  0.000000\n",
       "125            호수      4.0      0.0      4.0  0.000000\n",
       "126          홈스테이      8.0      2.0      6.0  0.250000\n",
       "127        희귀동.식물      7.0      5.0      2.0  0.714286\n",
       "\n",
       "[128 rows x 5 columns]"
      ]
     },
     "execution_count": 91,
     "metadata": {},
     "output_type": "execute_result"
    }
   ],
   "source": [
    "result_df = pd.merge(left = result_df , right = df2, left_on = \"index\",right_on = \"cat3\", how = \"left\").drop('cat3',1)\n",
    "\n",
    "result_df['val_틀린수'] = result_df['val_전체수'] - result_df['val_정답수']\n",
    "result_df['acc'] = result_df['val_정답수'] / result_df['val_전체수']\n",
    "result_df = result_df.fillna(0)\n",
    "result_df\n",
    "# result_df.to_csv('./temp.csv')\n"
   ]
  },
  {
   "cell_type": "code",
   "execution_count": 92,
   "metadata": {},
   "outputs": [],
   "source": [
    "weight_dict = { index:acc for index,acc in zip(result_df['index'],result_df['acc'])}\n",
    "# weight_dict"
   ]
  },
  {
   "cell_type": "markdown",
   "metadata": {},
   "source": []
  },
  {
   "cell_type": "code",
   "execution_count": 93,
   "metadata": {},
   "outputs": [
    {
     "name": "stdout",
     "output_type": "stream",
     "text": [
      "['0.2741032838821411', '0.726055383682251', '3.8537850379943848', '-0.5932121872901917', '0.5228717923164368', '-0.49769100546836853', '0.6942906379699707', '0.7193548083305359', '1.2125492095947266', '0.8325292468070984', '0.6441237330436707', '-1.050925850868225', '-0.5559065937995911', '2.431729316711426', '-0.18206194043159485', '0.5282250046730042', '-0.27948659658432007', '-1.399703860282898', '-1.368259072303772', '0.13256937265396118', '-0.7375528216362', '0.2824725806713104', '3.5026369094848633', '1.7273540496826172', '0.11742763221263885', '1.792862892150879', '1.7945923805236816', '1.3292771577835083', '3.0702829360961914', '0.40677037835121155', '3.835261821746826', '-0.6626306176185608', '-0.06368841230869293', '1.9272936582565308', '0.4543682932853699', '-0.0673721507191658', '2.7410759925842285', '1.0621751546859741', '1.1277921199798584', '0.9499882459640503', '0.7908570766448975', '0.40709197521209717', '0.5867888927459717', '2.76792311668396', '-1.9058034420013428', '3.810539960861206', '2.948463201522827', '1.9858402013778687', '0.5270805358886719', '4.6068549156188965', '3.213838577270508', '3.6535046100616455', '0.5834956765174866', '0.7355587482452393', '0.5102179646492004', '1.8481792211532593', '-0.6254621148109436', '-0.28303006291389465', '0.039385199546813965', '1.2569899559020996', '-0.07478520274162292', '1.0058412551879883', '-0.9563741683959961', '-0.32384952902793884', '2.47583270072937', '2.7366442680358887', '1.4102449417114258', '1.8362947702407837', '3.7465054988861084', '0.9669856429100037', '2.9736685752868652', '1.7831904888153076', '-0.7646515369415283', '-1.3577516078948975', '1.5636725425720215', '2.269033193588257', '2.8025076389312744', '0.4774753749370575', '3.3069515228271484', '0.937079131603241', '0.3259139657020569', '-1.287034034729004', '0.8347529172897339', '0.4447307586669922', '-1.4687831401824951', '-0.907139241695404', '-1.9755547046661377', '1.2777074575424194', '0.9802780151367188', '3.1032187938690186', '0.9069828987121582', '0.5241772532463074', '2.8763368129730225', '-0.7844293713569641', '-0.5742520093917847', '1.1299571990966797', '1.6647460460662842', '-0.9030640721321106', '1.558007001876831', '0.46884265542030334', '0.998604416847229', '-0.38192057609558105', '0.7510018348693848', '14.320274353027344', '4.42067813873291', '1.6006981134414673', '3.478947877883911', '-0.2735570967197418', '-1.1341649293899536', '0.9213876724243164', '1.9048373699188232', '-1.8673359155654907', '-0.7577819228172302', '-0.09191642701625824', '-0.35309410095214844', '-0.15674801170825958', '2.1050429344177246', '1.4109985828399658', '-1.1935523748397827', '-0.5967823266983032', '1.0711385011672974', '-0.5819047093391418', '1.258065104484558', '1.165306806564331', '2.357499361038208', '0.36939722299575806', '0.8329102396965027', '1.0138643980026245'] <class 'list'>\n"
     ]
    }
   ],
   "source": [
    "target_df = pd.read_csv('./data_save_temp/fold_3_epoch_15_valdf_rank_0.csv')\n",
    "temp = target_df.iloc[0]['predict_logit'].replace('[','')\n",
    "temp = temp.replace(']','')\n",
    "temp = temp.replace(\"'\",'')\n",
    "temp = temp.replace(\" \",'')\n",
    "temp = temp.split(',')\n",
    "print(temp,type(temp))"
   ]
  },
  {
   "cell_type": "markdown",
   "metadata": {},
   "source": []
  },
  {
   "cell_type": "code",
   "execution_count": 94,
   "metadata": {},
   "outputs": [
    {
     "name": "stdout",
     "output_type": "stream",
     "text": [
      "14.320274353027344 103\n"
     ]
    }
   ],
   "source": [
    "import numpy as np\n",
    "temp2 = []\n",
    "for i in temp:\n",
    "    temp2.append(float(i))\n",
    "    \n",
    "print(np.max(temp2),np.argmax(temp2))"
   ]
  },
  {
   "cell_type": "code",
   "execution_count": 97,
   "metadata": {},
   "outputs": [
    {
     "data": {
      "text/plain": [
       "'카지노'"
      ]
     },
     "execution_count": 97,
     "metadata": {},
     "output_type": "execute_result"
    }
   ],
   "source": [
    "print(number_2_label[103],target_df.iloc[0])"
   ]
  }
 ],
 "metadata": {
  "kernelspec": {
   "display_name": "Python 3.7.0 ('env': venv)",
   "language": "python",
   "name": "python3"
  },
  "language_info": {
   "codemirror_mode": {
    "name": "ipython",
    "version": 3
   },
   "file_extension": ".py",
   "mimetype": "text/x-python",
   "name": "python",
   "nbconvert_exporter": "python",
   "pygments_lexer": "ipython3",
   "version": "3.7.0"
  },
  "orig_nbformat": 4,
  "vscode": {
   "interpreter": {
    "hash": "4a343bfc7efa4c1701031899a7f6f4408b3532fb01783297054a5ede20989faa"
   }
  }
 },
 "nbformat": 4,
 "nbformat_minor": 2
}
