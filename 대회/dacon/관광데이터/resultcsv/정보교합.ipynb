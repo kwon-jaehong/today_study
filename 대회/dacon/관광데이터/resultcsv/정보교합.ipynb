{
 "cells": [
  {
   "cell_type": "code",
   "execution_count": 2,
   "metadata": {},
   "outputs": [],
   "source": [
    "import pandas as pd\n",
    "import numpy as np\n",
    "# df1 = pd.read_csv('./nomal_submit.csv')\n",
    "# df2 = pd.read_csv('./focal_loss_submit.csv')\n",
    "# df3 = pd.read_csv('./20e_fulldata.csv')\n",
    "# df4 = pd.read_csv('./cat1_3.csv')\n",
    "# df5 = pd.read_csv('./20e_dorp0.3.csv')\n",
    "# df6 = pd.read_csv('./20e_dorp0.4.csv')\n",
    "\n",
    "file_name_list = ['./nomal_submit.csv','./focal_loss_submit.csv','./20e_dorp0.3.csv','./20e_dorp0.4.csv','./g2_best.csv','./roberta.csv']\n",
    "\n",
    "cat3_list = []\n",
    "for filename in file_name_list:\n",
    "    df = pd.read_csv(filename)\n",
    "    cat3_list.append(list(df['cat3']))\n",
    "    \n",
    "data = {filename:cat_l for filename,cat_l in zip(file_name_list,cat3_list)}\n",
    "    \n",
    "# data = {\"nomal\":list(df1['cat3']),\"focal\":list(df2['cat3']),\"cat1~3\":list(df4['cat3']),\"drop0.3\":list(df5['cat3']),\"drop0.4\":list(df6['cat3'])}\n",
    "\n",
    "# data = \"\"\n",
    "df = pd.DataFrame(data)\n",
    "\n",
    "\n",
    "def compare(x):\n",
    "    # print(len(set(list(x))))\n",
    "    if len(set(list(x))) == 1:\n",
    "        return \"Same\"\n",
    "    else:\n",
    "        return \"diff\" \n",
    "    \n",
    "def ensemble(x):\n",
    "    # print(list(x)[-1])\n",
    "    if list(x)[-1] ==\"Same\":\n",
    "        return x[0]\n",
    "    else:\n",
    "        return np.nan\n",
    "        \n",
    "    \n",
    "    \n",
    "df['compare']=df.apply(compare,axis=1)\n",
    "\n",
    "df['ensemble'] = df.apply(ensemble,axis=1)\n",
    "\n",
    "df.to_csv('./temp.csv')\n"
   ]
  }
 ],
 "metadata": {
  "kernelspec": {
   "display_name": "Python 3.7.0 ('env': venv)",
   "language": "python",
   "name": "python3"
  },
  "language_info": {
   "codemirror_mode": {
    "name": "ipython",
    "version": 3
   },
   "file_extension": ".py",
   "mimetype": "text/x-python",
   "name": "python",
   "nbconvert_exporter": "python",
   "pygments_lexer": "ipython3",
   "version": "3.7.0"
  },
  "orig_nbformat": 4,
  "vscode": {
   "interpreter": {
    "hash": "4a343bfc7efa4c1701031899a7f6f4408b3532fb01783297054a5ede20989faa"
   }
  }
 },
 "nbformat": 4,
 "nbformat_minor": 2
}
