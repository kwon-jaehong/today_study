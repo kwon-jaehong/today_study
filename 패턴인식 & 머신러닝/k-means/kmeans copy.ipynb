{
 "cells": [
  {
   "cell_type": "code",
   "execution_count": 66,
   "metadata": {},
   "outputs": [
    {
     "data": {
      "image/png": "[encoded data removed]",
      "text/plain": [
       "<Figure size 504x504 with 1 Axes>"
      ]
     },
     "metadata": {},
     "output_type": "display_data"
    }
   ],
   "source": [
    "import numpy as np\n",
    "import random\n",
    "import matplotlib.pyplot as plt\n",
    " \n",
    "np.random.seed(100)\n",
    "num_data = 50\n",
    " \n",
    "temp_list = [[25, 25, 280, 243],\n",
    " [354, 25, 293, 243],\n",
    " [696, 25, 287, 243],\n",
    " [1032, 25, 288, 243],\n",
    " [1369, 25, 289, 243],\n",
    " [1707, 25, 290, 243],\n",
    " [2046, 25, 291, 243],\n",
    " [2386, 25, 293, 243],\n",
    " [2728, 25, 272, 243],\n",
    " [25, 317, 280, 244],\n",
    " [354, 317, 293, 244],\n",
    " [696, 317, 287, 244],\n",
    " [1032, 317, 288, 244],\n",
    " [1369, 317, 289, 244],\n",
    " [1707, 317, 290, 244],\n",
    " [2046, 317, 291, 244],\n",
    " [2386, 317, 293, 244],\n",
    " [2728, 317, 272, 244],\n",
    " [25, 610, 280, 243],\n",
    " [354, 610, 293, 243],\n",
    " [696, 610, 287, 243],\n",
    " [1032, 610, 288, 243],\n",
    " [1369, 610, 289, 243],\n",
    " [1707, 610, 290, 243],\n",
    " [2046, 610, 291, 243],\n",
    " [2386, 610, 293, 243],\n",
    " [2728, 610, 272, 243],\n",
    " [25, 902, 280, 241],\n",
    " [354, 902, 293, 241],\n",
    " [696, 902, 287, 241],\n",
    " [1032, 902, 288, 241],\n",
    " [1369, 902, 289, 241],\n",
    " [1707, 902, 290, 241],\n",
    " [2046, 902, 291, 241],\n",
    " [2386, 902, 293, 241],\n",
    " [2728, 902, 272, 241],\n",
    " [25, 1192, 280, 242],\n",
    " [354, 1192, 293, 242],\n",
    " [696, 1192, 287, 242],\n",
    " [1032, 1192, 288, 242],\n",
    " [1369, 1192, 289, 242],\n",
    " [1707, 1192, 290, 242],\n",
    " [2046, 1192, 291, 242],\n",
    " [2386, 1192, 293, 242],\n",
    " [2728, 1192, 272, 242],\n",
    " [25, 1483, 280, 243],\n",
    " [354, 1483, 293, 243],\n",
    " [696, 1483, 287, 243],\n",
    " [1032, 1483, 288, 243],\n",
    " [1369, 1483, 289, 243],\n",
    " [1707, 1483, 290, 243],\n",
    " [2046, 1483, 291, 243],\n",
    " [2386, 1483, 293, 243],\n",
    " [2728, 1483, 272, 243],\n",
    " [25, 1775, 280, 242],\n",
    " [354, 1775, 293, 242],\n",
    " [696, 1775, 287, 242],\n",
    " [1032, 1775, 288, 242],\n",
    " [1369, 1775, 289, 242],\n",
    " [1707, 1775, 290, 242],\n",
    " [2046, 1775, 291, 242],\n",
    " [2386, 1775, 293, 242],\n",
    " [2728, 1775, 272, 242],\n",
    " [25, 2066, 280, 243],\n",
    " [354, 2066, 293, 243],\n",
    " [696, 2066, 287, 243],\n",
    " [1032, 2066, 288, 243],\n",
    " [1369, 2066, 289, 243],\n",
    " [1707, 2066, 290, 243],\n",
    " [2046, 2066, 291, 243],\n",
    " [2386, 2066, 293, 243],\n",
    " [2728, 2066, 272, 243],\n",
    " [25, 2358, 280, 243],\n",
    " [354, 2358, 293, 243],\n",
    " [696, 2358, 287, 243],\n",
    " [1032, 2358, 288, 243],\n",
    " [1369, 2358, 289, 243],\n",
    " [1707, 2358, 290, 243],\n",
    " [2046, 2358, 291, 243],\n",
    " [2386, 2358, 293, 243],\n",
    " [2728, 2358, 272, 243],\n",
    " [25, 2650, 280, 244],\n",
    " [354, 2650, 293, 244],\n",
    " [696, 2650, 287, 244],\n",
    " [1032, 2650, 288, 244],\n",
    " [1369, 2650, 289, 244],\n",
    " [1707, 2650, 290, 244],\n",
    " [2046, 2650, 291, 244],\n",
    " [2386, 2650, 293, 244],\n",
    " [2728, 2650, 272, 244],\n",
    " [25, 2943, 280, 245],\n",
    " [354, 2943, 293, 245],\n",
    " [696, 2943, 287, 245],\n",
    " [1032, 2943, 288, 245],\n",
    " [1369, 2943, 289, 245],\n",
    " [1707, 2943, 290, 245],\n",
    " [2046, 2943, 291, 245],\n",
    " [2386, 2943, 293, 245],\n",
    " [2728, 2943, 272, 245],\n",
    " [25, 3237, 280, 241],\n",
    " [354, 3237, 293, 241],\n",
    " [696, 3237, 287, 241],\n",
    " [1032, 3237, 288, 241],\n",
    " [1369, 3237, 289, 241],\n",
    " [1707, 3237, 290, 241],\n",
    " [2046, 3237, 291, 241],\n",
    " [2386, 3237, 293, 241],\n",
    " [2728, 3237, 272, 241],\n",
    " [25, 3527, 280, 245],\n",
    " [354, 3527, 293, 245],\n",
    " [696, 3527, 287, 245],\n",
    " [1032, 3527, 288, 245],\n",
    " [1369, 3527, 289, 245],\n",
    " [1707, 3527, 290, 245],\n",
    " [2046, 3527, 291, 245],\n",
    " [2386, 3527, 293, 245],\n",
    " [2728, 3527, 272, 245],\n",
    " [25, 3821, 280, 187],\n",
    " [354, 3821, 293, 187],\n",
    " [696, 3821, 287, 187],\n",
    " [1032, 3821, 288, 187],\n",
    " [1369, 3821, 289, 187],\n",
    " [1707, 3821, 290, 187],\n",
    " [2046, 3821, 291, 187],\n",
    " [2386, 3821, 293, 187],\n",
    " [2728, 3821, 272, 187],\n",
    " [0, 0, 3024, 4032]]\n",
    "\n",
    " \n",
    "x1 = np.array(temp_list)[:,1]\n",
    "x2 = np.array(temp_list)[:,1]\n",
    "\n",
    "fig = plt.figure(figsize=(7,7))\n",
    "fig.set_facecolor('white')\n",
    "plt.scatter(x1, x2, color='k')\n",
    "plt.show()"
   ]
  },
  {
   "cell_type": "code",
   "execution_count": 72,
   "metadata": {},
   "outputs": [
    {
     "data": {
      "text/plain": [
       "array([  25,   25,   25,   25,   25,   25,   25,   25,   25,  317,  317,\n",
       "        317,  317,  317,  317,  317,  317,  317,  610,  610,  610,  610,\n",
       "        610,  610,  610,  610,  610,  902,  902,  902,  902,  902,  902,\n",
       "        902,  902,  902, 1192, 1192, 1192, 1192, 1192, 1192, 1192, 1192,\n",
       "       1192, 1483, 1483, 1483, 1483, 1483, 1483, 1483, 1483, 1483, 1775,\n",
       "       1775, 1775, 1775, 1775, 1775, 1775, 1775, 1775, 2066, 2066, 2066,\n",
       "       2066, 2066, 2066, 2066, 2066, 2066, 2358, 2358, 2358, 2358, 2358,\n",
       "       2358, 2358, 2358, 2358, 2650, 2650, 2650, 2650, 2650, 2650, 2650,\n",
       "       2650, 2650, 2943, 2943, 2943, 2943, 2943, 2943, 2943, 2943, 2943,\n",
       "       3237, 3237, 3237, 3237, 3237, 3237, 3237, 3237, 3237, 3527, 3527,\n",
       "       3527, 3527, 3527, 3527, 3527, 3527, 3527, 3821, 3821, 3821, 3821,\n",
       "       3821, 3821, 3821, 3821, 3821,    0])"
      ]
     },
     "execution_count": 72,
     "metadata": {},
     "output_type": "execute_result"
    }
   ],
   "source": [
    "x2"
   ]
  },
  {
   "cell_type": "code",
   "execution_count": 67,
   "metadata": {},
   "outputs": [
    {
     "name": "stdout",
     "output_type": "stream",
     "text": [
      "[ 610 1775 3821 2943  610 2943 1483]\n"
     ]
    },
    {
     "name": "stderr",
     "output_type": "stream",
     "text": [
      "/home/mrjaehong/project/today_study/env/lib/python3.7/site-packages/numpy/core/fromnumeric.py:3441: RuntimeWarning: Mean of empty slice.\n",
      "  out=out, **kwargs)\n",
      "/home/mrjaehong/project/today_study/env/lib/python3.7/site-packages/numpy/core/_methods.py:189: RuntimeWarning: invalid value encountered in double_scalars\n",
      "  ret = ret.dtype.type(ret / rcount)\n"
     ]
    }
   ],
   "source": [
    "\n",
    "def kmeans_clustering(X, n_clusters, init_center=None, max_iter=10, epsilon=1e-4, random_state=100): \n",
    "    # 센터값 초기화\n",
    "    init_center = None\n",
    "    if init_center is None:\n",
    "        random.seed(random_state)\n",
    "        ## 데이터의 아무 좌표나 가져옴\n",
    "        idx = random.sample(range(X.shape[0]), n_clusters)\n",
    "        center = X[idx]\n",
    "    else:\n",
    "        center = init_center\n",
    "    print(center)\n",
    "    iteration = 1\n",
    "    labels_history = []  \n",
    "    center_history = [] \n",
    "    \n",
    "\n",
    "    while(iteration<=max_iter):\n",
    "        labels = []\n",
    "        for i in range(0,len(X)):\n",
    "            data = X[i]\n",
    "            labels.append(np.argmin([np.linalg.norm(data-x) for x in center]))\n",
    "        \n",
    "        labels = np.array(labels)\n",
    "        ## update centeroids\n",
    "        next_center = []\n",
    "        for i in range(n_clusters):\n",
    "            target_idx = np.where(labels==i)[0]\n",
    "            center_val = np.mean(X[target_idx])\n",
    "            next_center.append(center_val)\n",
    " \n",
    "        next_center = np.array(next_center)\n",
    "        if epsilon:\n",
    "            # print(next_center,center)\n",
    "            if np.linalg.norm(next_center-center) <= epsilon:\n",
    "                break\n",
    "        center = next_center\n",
    "        labels_history.append(labels)\n",
    "        center_history.append(center)\n",
    "        iteration += 1\n",
    "    return (labels, iteration, labels_history, center_history)\n",
    "\n",
    "\n",
    "X = np.stack([x1, x2], axis=1)\n",
    " \n",
    "init_center= np.array([[2,4],[1,5],[2.5,6]])\n",
    "max_iter=50\n",
    "epsilon=1e-10\n",
    "random_state=101\n",
    "n_clusters=7\n",
    "results = kmeans_clustering(x1, n_clusters, init_center, max_iter, epsilon=1e-4, \n",
    "                           random_state=100)\n",
    "labels = results[0]\n"
   ]
  },
  {
   "cell_type": "code",
   "execution_count": 68,
   "metadata": {},
   "outputs": [
    {
     "data": {
      "text/plain": [
       "array([          nan, 1906.72440945,           nan,           nan,\n",
       "                 nan,           nan,           nan])"
      ]
     },
     "execution_count": 68,
     "metadata": {},
     "output_type": "execute_result"
    }
   ],
   "source": [
    "results[-1][-1]"
   ]
  },
  {
   "cell_type": "code",
   "execution_count": 69,
   "metadata": {},
   "outputs": [
    {
     "data": {
      "image/png": "[encoded data removed]",
      "text/plain": [
       "<Figure size 504x504 with 1 Axes>"
      ]
     },
     "metadata": {},
     "output_type": "display_data"
    }
   ],
   "source": [
    "fig = plt.figure(figsize=(7,7))\n",
    "fig.set_facecolor('white')\n",
    "for i, label in enumerate(labels):\n",
    "    if label == 0:\n",
    "        color = 'blue'\n",
    "    elif label ==1:\n",
    "        color = 'red'\n",
    "    else:\n",
    "        color = 'green'\n",
    "    plt.scatter(X[i,0],X[i,1], color=color)\n",
    "    \n",
    "plt.xlabel('x1')\n",
    "plt.ylabel('x2')\n",
    "plt.show()"
   ]
  },
  {
   "cell_type": "code",
   "execution_count": 70,
   "metadata": {},
   "outputs": [],
   "source": [
    "# labels_history = results[2]\n",
    "# for j, labels in enumerate(labels_history):\n",
    "#     fig = plt.figure(figsize=(7,7))\n",
    "#     fig.set_facecolor('white')\n",
    "#     for i, label in enumerate(labels):\n",
    "#         if label == 0:\n",
    "#             color = 'blue'\n",
    "#         elif label ==1:\n",
    "#             color = 'red'\n",
    "#         else:\n",
    "#             color = 'green'\n",
    "#         plt.scatter(X[i,0],X[i,1], color=color)\n",
    "#     plt.title(f'Iteration : {j+1}')\n",
    "#     plt.xlabel('x1')\n",
    "#     plt.ylabel('x2')\n",
    "# plt.show()"
   ]
  },
  {
   "cell_type": "code",
   "execution_count": null,
   "metadata": {},
   "outputs": [],
   "source": []
  },
  {
   "cell_type": "code",
   "execution_count": null,
   "metadata": {},
   "outputs": [],
   "source": []
  },
  {
   "cell_type": "code",
   "execution_count": null,
   "metadata": {},
   "outputs": [],
   "source": []
  },
  {
   "cell_type": "code",
   "execution_count": null,
   "metadata": {},
   "outputs": [],
   "source": []
  },
  {
   "cell_type": "code",
   "execution_count": null,
   "metadata": {},
   "outputs": [],
   "source": []
  }
 ],
 "metadata": {
  "kernelspec": {
   "display_name": "Python 3.7.5 ('env': venv)",
   "language": "python",
   "name": "python3"
  },
  "language_info": {
   "codemirror_mode": {
    "name": "ipython",
    "version": 3
   },
   "file_extension": ".py",
   "mimetype": "text/x-python",
   "name": "python",
   "nbconvert_exporter": "python",
   "pygments_lexer": "ipython3",
   "version": "3.7.5"
  },
  "orig_nbformat": 4,
  "vscode": {
   "interpreter": {
    "hash": "02f73df80f6b7cfb1d2d2729c6624b9061c0386599073f9b468acf97e0bc0e85"
   }
  }
 },
 "nbformat": 4,
 "nbformat_minor": 2
}
