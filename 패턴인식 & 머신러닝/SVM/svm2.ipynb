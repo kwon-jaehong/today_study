{
 "cells": [
  {
   "cell_type": "code",
   "execution_count": 1,
   "metadata": {},
   "outputs": [
    {
     "data": {
      "image/png": "[encoded data removed]",
      "text/plain": [
       "<Figure size 612x540 with 1 Axes>"
      ]
     },
     "metadata": {
      "needs_background": "light"
     },
     "output_type": "display_data"
    }
   ],
   "source": [
    "import numpy as np\n",
    "import matplotlib.pyplot as plt\n",
    "\n",
    "plt.close(\"all\")\n",
    "\n",
    "Nh = 20\n",
    "Ns = 0\n",
    "N = Nh+Ns\n",
    "r1 = np.random.randn(int(Nh/2),1)\n",
    "r2 = np.random.randn(int(Nh/2),1)+5\n",
    "\n",
    "s1 = np.ones((int(Nh/2),1))\n",
    "s2 = -1*np.ones((int(Nh/2),1))\n",
    "\n",
    "x = np.vstack((r1,r2))\n",
    "y = np.vstack((r2,r1))\n",
    "s = np.vstack((s1,s2))\n",
    "\n",
    "xmin = -3\n",
    "xmax = 8\n",
    "ymin = -3\n",
    "ymax = 8\n",
    "\n",
    "mu_ini=1*np.ones((N,1))\n",
    " \n",
    "## 3차원 벡터 x,mu,람다\n",
    "wk = np.vstack((-1,1,0,mu_ini))\n",
    "## -x + y = 0\n",
    "\n",
    "tl = 1\n",
    "figure = plt.figure(figsize=[8.5,7.5])\n",
    "\n",
    "plt.grid()\n",
    "plt.plot(x[s==-1],y[s==-1],'ro',fillstyle=\"none\",markersize=15,markeredgewidth=2)\n",
    "plt.plot(x[s==1],y[s==1],'bo',fillstyle=\"none\",markersize=15,markeredgewidth=2)\n",
    "plt.axis([xmin,xmax,ymin,ymax])\n",
    "x_plot = np.linspace(xmin,xmax,100)\n",
    "\n",
    "\n",
    "\n",
    "\n",
    "\n",
    "\n",
    "\n",
    "\n"
   ]
  },
  {
   "cell_type": "code",
   "execution_count": 2,
   "metadata": {},
   "outputs": [],
   "source": [
    "for k in range(50):\n",
    "    tl1 = 0.8*tl\n",
    "    t = tl1\n",
    "    \n",
    "    a = wk[0].reshape(1,1)\n",
    "    b = wk[0].reshape(1,1)\n",
    "    c = wk[0].reshape(1,1)\n",
    "    mu = wk[3:]\n",
    "    ab = np.hstack((a,b))\n",
    "    xy = np.vstack((np.transpose(x),np.transpose(y)))\n",
    "    g = s*np.transpose(c-ab@xy)+1\n",
    "    \n",
    "    dgdx = np.hstack((-s*x,-s*y,s))\n"
   ]
  },
  {
   "cell_type": "code",
   "execution_count": 3,
   "metadata": {},
   "outputs": [
    {
     "data": {
      "text/plain": [
       "array([[-1.],\n",
       "       [ 1.],\n",
       "       [ 0.],\n",
       "       [ 1.],\n",
       "       [ 1.],\n",
       "       [ 1.],\n",
       "       [ 1.],\n",
       "       [ 1.],\n",
       "       [ 1.],\n",
       "       [ 1.],\n",
       "       [ 1.],\n",
       "       [ 1.],\n",
       "       [ 1.],\n",
       "       [ 1.],\n",
       "       [ 1.],\n",
       "       [ 1.],\n",
       "       [ 1.],\n",
       "       [ 1.],\n",
       "       [ 1.],\n",
       "       [ 1.],\n",
       "       [ 1.],\n",
       "       [ 1.],\n",
       "       [ 1.]])"
      ]
     },
     "execution_count": 3,
     "metadata": {},
     "output_type": "execute_result"
    }
   ],
   "source": [
    "wk"
   ]
  },
  {
   "cell_type": "code",
   "execution_count": null,
   "metadata": {},
   "outputs": [],
   "source": []
  }
 ],
 "metadata": {
  "kernelspec": {
   "display_name": "Python 3.7.5 ('env': venv)",
   "language": "python",
   "name": "python3"
  },
  "language_info": {
   "codemirror_mode": {
    "name": "ipython",
    "version": 3
   },
   "file_extension": ".py",
   "mimetype": "text/x-python",
   "name": "python",
   "nbconvert_exporter": "python",
   "pygments_lexer": "ipython3",
   "version": "3.7.5"
  },
  "orig_nbformat": 4,
  "vscode": {
   "interpreter": {
    "hash": "02f73df80f6b7cfb1d2d2729c6624b9061c0386599073f9b468acf97e0bc0e85"
   }
  }
 },
 "nbformat": 4,
 "nbformat_minor": 2
}
