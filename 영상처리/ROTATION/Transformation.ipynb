{
 "cells": [
  {
   "cell_type": "code",
   "execution_count": 1,
   "metadata": {},
   "outputs": [
    {
     "ename": "AttributeError",
     "evalue": "module 'scipy.ndimage' has no attribute 'imread'",
     "output_type": "error",
     "traceback": [
      "\u001b[0;31m---------------------------------------------------------------------------\u001b[0m",
      "\u001b[0;31mAttributeError\u001b[0m                            Traceback (most recent call last)",
      "\u001b[0;32m/tmp/ipykernel_29333/3763499113.py\u001b[0m in \u001b[0;36m<module>\u001b[0;34m\u001b[0m\n\u001b[1;32m      6\u001b[0m \u001b[0;34m\u001b[0m\u001b[0m\n\u001b[1;32m      7\u001b[0m \u001b[0;31m#  inputs\u001b[0m\u001b[0;34m\u001b[0m\u001b[0;34m\u001b[0m\u001b[0;34m\u001b[0m\u001b[0m\n\u001b[0;32m----> 8\u001b[0;31m \u001b[0mimg\u001b[0m \u001b[0;34m=\u001b[0m \u001b[0mndimage\u001b[0m\u001b[0;34m.\u001b[0m\u001b[0mimread\u001b[0m\u001b[0;34m(\u001b[0m\u001b[0;34m\"./temp.png\"\u001b[0m\u001b[0;34m)\u001b[0m\u001b[0;34m\u001b[0m\u001b[0;34m\u001b[0m\u001b[0m\n\u001b[0m\u001b[1;32m      9\u001b[0m \u001b[0mrotation_amount_degree\u001b[0m \u001b[0;34m=\u001b[0m \u001b[0;36m45\u001b[0m\u001b[0;34m\u001b[0m\u001b[0;34m\u001b[0m\u001b[0m\n\u001b[1;32m     10\u001b[0m \u001b[0;34m\u001b[0m\u001b[0m\n",
      "\u001b[0;31mAttributeError\u001b[0m: module 'scipy.ndimage' has no attribute 'imread'"
     ]
    }
   ],
   "source": [
    "import numpy as np\n",
    "import math\n",
    "import cv2\n",
    "from PIL import Image\n",
    "\n",
    "\n",
    "#  inputs\n",
    "img = cv2.imread(\"./temp.png\")\n",
    "rotation_amount_degree = 45\n",
    "\n",
    "#  convert rotation amount to radian\n",
    "rotation_amount_rad = rotation_amount_degree * np.pi / 180.0\n",
    "\n",
    "\n",
    "#  get dimension info\n",
    "height, width, num_channels = img.shape\n",
    "\n",
    "\n",
    "#  create output image, for worst case size (45 degree)\n",
    "max_len = int(math.sqrt(height*height + width*width))\n",
    "rotated_image = np.zeros((max_len, max_len, num_channels))\n",
    "#rotated_image = np.zeros((img.shape))\n",
    "\n",
    "\n",
    "rotated_height, rotated_width, _ = rotated_image.shape\n",
    "mid_row = int( (rotated_height+1)/2 )\n",
    "mid_col = int( (rotated_width+1)/2 )\n",
    "\n",
    "#  for each pixel in output image, find which pixel\n",
    "#it corresponds to in the input image\n",
    "for r in range(rotated_height):\n",
    "    for c in range(rotated_width):\n",
    "        #  apply rotation matrix, the other way\n",
    "        y = (r-mid_col)*math.cos(rotation_amount_rad) + (c-mid_row)*math.sin(rotation_amount_rad)\n",
    "        x = -(r-mid_col)*math.sin(rotation_amount_rad) + (c-mid_row)*math.cos(rotation_amount_rad)\n",
    "\n",
    "        #  add offset\n",
    "        y += mid_col\n",
    "        x += mid_row\n",
    "\n",
    "        #  get nearest index\n",
    "        #a better way is linear interpolation\n",
    "        x = round(x)\n",
    "        y = round(y)\n",
    "\n",
    "        #print(r, \" \", c, \" corresponds to-> \" , y, \" \", x)\n",
    "\n",
    "        #  check if x/y corresponds to a valid pixel in input image\n",
    "        if (x >= 0 and y >= 0 and x < width and y < height):\n",
    "            rotated_image[r][c][:] = img[y][x][:]\n",
    "\n",
    "\n",
    "#  save output image\n",
    "output_image = Image.fromarray(rotated_image.astype(\"uint8\"))\n",
    "output_image.save(\"rotated_image.png\")"
   ]
  }
 ],
 "metadata": {
  "kernelspec": {
   "display_name": "Python 3.7.5 ('env': venv)",
   "language": "python",
   "name": "python3"
  },
  "language_info": {
   "codemirror_mode": {
    "name": "ipython",
    "version": 3
   },
   "file_extension": ".py",
   "mimetype": "text/x-python",
   "name": "python",
   "nbconvert_exporter": "python",
   "pygments_lexer": "ipython3",
   "version": "3.7.5"
  },
  "orig_nbformat": 4,
  "vscode": {
   "interpreter": {
    "hash": "02f73df80f6b7cfb1d2d2729c6624b9061c0386599073f9b468acf97e0bc0e85"
   }
  }
 },
 "nbformat": 4,
 "nbformat_minor": 2
}
