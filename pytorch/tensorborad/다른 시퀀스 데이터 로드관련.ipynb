{
 "cells": [
  {
   "cell_type": "code",
   "execution_count": 41,
   "metadata": {},
   "outputs": [
    {
     "name": "stdout",
     "output_type": "stream",
     "text": [
      "char_set: ['<pad>', ' ', 'l', 'e', 'g', 'o', 'w', 'u', 'p', 'm', 'c', 'r', 'i', 'h', 't', 'd', 's', 'n', 'a']\n",
      "char_set length: 19\n"
     ]
    }
   ],
   "source": [
    "import torch\n",
    "import numpy as np\n",
    "import torch.nn as nn\n",
    "from torch.nn.utils.rnn import pad_sequence, pack_sequence, pack_padded_sequence, pad_packed_sequence\n",
    "\n",
    "# 참조\n",
    "# https://notebooks.githubusercontent.com/view/ipynb?browser=chrome&color_mode=auto&commit=a0e1e9290f0347c0c4be3bc940c7a9e86b3b69d9&device=unknown&enc_url=68747470733a2f2f7261772e67697468756275736572636f6e74656e742e636f6d2f73746174732d6465762f435541495f5079546f7263682f613065316539323930663033343763306334626533626339343063376139653836623362363964392f6c61622d31315f375f5061636b656453657175656e63652e6970796e62&logged_in=false&nwo=stats-dev%2FCUAI_PyTorch&path=lab-11_7_PackedSequence.ipynb&platform=android&repository_id=183885275&repository_type=Repository&version=98\n",
    "\n",
    "\n",
    "# Random word from random word generator\n",
    "data = ['hello world',\n",
    "        'midnight',\n",
    "        'calculation',\n",
    "        'path',\n",
    "        'short circuit']\n",
    "\n",
    "# Make dictionary\n",
    "char_set = ['<pad>'] + list(set(char for seq in data for char in seq)) # Get all characters and include pad token\n",
    "char2idx = {char: idx for idx, char in enumerate(char_set)} # Constuct character to index dictionary\n",
    "print('char_set:', char_set)\n",
    "print('char_set length:', len(char_set))\n",
    "\n",
    "\n",
    "\n",
    "\n",
    "\n",
    "\n",
    "\n",
    "\n",
    "\n",
    "\n",
    "\n",
    "\n",
    "\n"
   ]
  },
  {
   "cell_type": "code",
   "execution_count": 42,
   "metadata": {},
   "outputs": [
    {
     "name": "stdout",
     "output_type": "stream",
     "text": [
      "tensor([13,  3,  2,  2,  5,  1,  6,  5, 11,  2, 15])\n",
      "tensor([ 9, 12, 15, 17, 12,  4, 13, 14])\n",
      "tensor([10, 18,  2, 10,  7,  2, 18, 14, 12,  5, 17])\n",
      "tensor([ 8, 18, 14, 13])\n",
      "tensor([16, 13,  5, 11, 14,  1, 10, 12, 11, 10,  7, 12, 14])\n"
     ]
    }
   ],
   "source": [
    "# Convert character to index and make list of tensors\n",
    "X = [torch.LongTensor([char2idx[char] for char in seq]) for seq in data]\n",
    "\n",
    "# Check converted result\n",
    "for sequence in X:\n",
    "    print(sequence)"
   ]
  },
  {
   "cell_type": "code",
   "execution_count": 43,
   "metadata": {},
   "outputs": [
    {
     "name": "stdout",
     "output_type": "stream",
     "text": [
      "lengths: [11, 8, 11, 4, 13]\n"
     ]
    }
   ],
   "source": [
    "# Make length tensor (will be used later in 'pack_padded_sequence' function)\n",
    "lengths = [len(seq) for seq in X]\n",
    "print('lengths:', lengths)"
   ]
  },
  {
   "cell_type": "code",
   "execution_count": 44,
   "metadata": {},
   "outputs": [
    {
     "name": "stdout",
     "output_type": "stream",
     "text": [
      "tensor([[13,  3,  2,  2,  5,  1,  6,  5, 11,  2, 15,  0,  0],\n",
      "        [ 9, 12, 15, 17, 12,  4, 13, 14,  0,  0,  0,  0,  0],\n",
      "        [10, 18,  2, 10,  7,  2, 18, 14, 12,  5, 17,  0,  0],\n",
      "        [ 8, 18, 14, 13,  0,  0,  0,  0,  0,  0,  0,  0,  0],\n",
      "        [16, 13,  5, 11, 14,  1, 10, 12, 11, 10,  7, 12, 14]])\n",
      "torch.Size([5, 13])\n"
     ]
    }
   ],
   "source": [
    "# Make a Tensor of shape (Batch x Maximum_Sequence_Length)\n",
    "padded_sequence = pad_sequence(X, batch_first=True) # X is now padded sequence\n",
    "print(padded_sequence)\n",
    "print(padded_sequence.shape)"
   ]
  },
  {
   "cell_type": "code",
   "execution_count": 49,
   "metadata": {},
   "outputs": [
    {
     "name": "stdout",
     "output_type": "stream",
     "text": [
      "torch.Size([10, 5]) \n",
      " Parameter containing:\n",
      "tensor([[ 0.7059, -1.9180,  0.5313,  0.5144, -0.3707],\n",
      "        [ 0.9646,  1.0572, -2.0950, -0.0962, -1.6667],\n",
      "        [-0.8397,  0.0888, -0.1117, -2.0625,  1.2218],\n",
      "        [ 1.2746, -1.5517, -0.3631, -2.1539, -0.2085],\n",
      "        [-2.0621, -0.1531,  1.1644,  0.5369, -0.6588],\n",
      "        [ 0.8500, -1.1765, -1.4831, -0.5402, -0.9016],\n",
      "        [ 1.4291,  0.1506,  0.3183,  0.3158,  1.2158],\n",
      "        [-2.1821,  0.3487,  0.4725, -1.8929,  2.4428],\n",
      "        [ 1.5025, -0.2328,  0.0703, -1.6530, -1.5387],\n",
      "        [ 0.2614, -0.4773, -0.5584, -1.3951,  0.2097]], requires_grad=True)\n",
      "tensor([0, 0, 0, 9]) \n",
      "\n",
      "\n",
      " 얏호\n",
      "torch.Size([4, 5]) \n",
      " tensor([[ 0.7059, -1.9180,  0.5313,  0.5144, -0.3707],\n",
      "        [ 0.7059, -1.9180,  0.5313,  0.5144, -0.3707],\n",
      "        [ 0.7059, -1.9180,  0.5313,  0.5144, -0.3707],\n",
      "        [ 0.2614, -0.4773, -0.5584, -1.3951,  0.2097]],\n",
      "       grad_fn=<EmbeddingBackward>)\n"
     ]
    }
   ],
   "source": [
    "\n",
    "embeds = nn.Embedding(10,5)\n",
    "print(embeds.weight.shape,\"\\n\",embeds.weight)\n",
    "word = {'hell':0,'world':1}\n",
    "\n",
    "ten = torch.tensor([0,0,0,9],dtype=torch.long)\n",
    "print(ten,\"\\n\\n\\n\",\"얏호\")\n",
    "\n",
    "emd = embeds(ten)\n",
    "print(emd.shape,\"\\n\",emd)"
   ]
  }
 ],
 "metadata": {
  "kernelspec": {
   "display_name": "Python 3.7.5 ('env': venv)",
   "language": "python",
   "name": "python3"
  },
  "language_info": {
   "codemirror_mode": {
    "name": "ipython",
    "version": 3
   },
   "file_extension": ".py",
   "mimetype": "text/x-python",
   "name": "python",
   "nbconvert_exporter": "python",
   "pygments_lexer": "ipython3",
   "version": "3.7.5"
  },
  "orig_nbformat": 4,
  "vscode": {
   "interpreter": {
    "hash": "02f73df80f6b7cfb1d2d2729c6624b9061c0386599073f9b468acf97e0bc0e85"
   }
  }
 },
 "nbformat": 4,
 "nbformat_minor": 2
}
