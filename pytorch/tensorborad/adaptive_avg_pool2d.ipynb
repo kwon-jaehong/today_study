{
 "cells": [
  {
   "cell_type": "code",
   "execution_count": 5,
   "metadata": {},
   "outputs": [
    {
     "name": "stdout",
     "output_type": "stream",
     "text": [
      "tensor([[[[ 0.4736,  1.3071,  0.7258],\n",
      "          [-0.2913,  0.3340,  1.9013],\n",
      "          [-0.4387,  1.1801,  1.4200]],\n",
      "\n",
      "         [[ 1.8135,  0.9772, -0.3242],\n",
      "          [-1.5208, -0.8029, -0.5263],\n",
      "          [-0.8449, -0.3961, -0.8451]]]]) \n",
      "\n",
      "tensor([[[[ 0.4736,  0.8904,  1.3071,  1.0165,  0.7258],\n",
      "          [ 0.0912,  0.4559,  0.8206,  1.0670,  1.3135],\n",
      "          [-0.2913,  0.0213,  0.3340,  1.1176,  1.9013],\n",
      "          [-0.3650,  0.1960,  0.7570,  1.2088,  1.6606],\n",
      "          [-0.4387,  0.3707,  1.1801,  1.3000,  1.4200]],\n",
      "\n",
      "         [[ 1.8135,  1.3953,  0.9772,  0.3265, -0.3242],\n",
      "          [ 0.1463,  0.1167,  0.0871, -0.1691, -0.4253],\n",
      "          [-1.5208, -1.1619, -0.8029, -0.6646, -0.5263],\n",
      "          [-1.1828, -0.8912, -0.5995, -0.6426, -0.6857],\n",
      "          [-0.8449, -0.6205, -0.3961, -0.6206, -0.8451]]]])\n"
     ]
    }
   ],
   "source": [
    "# adaptive_avg_pool2d는 단순하게 목표가 되는 사이즈만큼 텐서를 resizing해주는 모듈임 - 선형 보간법\n",
    "# max pooling과는 개념이 조금 다름\n",
    "\n",
    "import torch\n",
    "import torch.nn.functional as F\n",
    "a = torch.randn(1, 2, 3, 3)\n",
    "print(a,'\\n')\n",
    "b = F.adaptive_avg_pool2d(a,(5,5))\n",
    "print(b)\n",
    "\n",
    "\n"
   ]
  }
 ],
 "metadata": {
  "kernelspec": {
   "display_name": "Python 3.7.0 ('env': venv)",
   "language": "python",
   "name": "python3"
  },
  "language_info": {
   "codemirror_mode": {
    "name": "ipython",
    "version": 3
   },
   "file_extension": ".py",
   "mimetype": "text/x-python",
   "name": "python",
   "nbconvert_exporter": "python",
   "pygments_lexer": "ipython3",
   "version": "3.7.0"
  },
  "orig_nbformat": 4,
  "vscode": {
   "interpreter": {
    "hash": "4a343bfc7efa4c1701031899a7f6f4408b3532fb01783297054a5ede20989faa"
   }
  }
 },
 "nbformat": 4,
 "nbformat_minor": 2
}
