{
 "cells": [
  {
   "cell_type": "code",
   "execution_count": 35,
   "metadata": {},
   "outputs": [],
   "source": [
    "import numpy as np\n",
    "import cv2\n",
    "import os\n",
    "\n",
    "\n",
    "img1 = cv2.imread('./Handwriting-Inspection-Module/fianal_result/갛.bmp')\n",
    "\n",
    "diff_dir = \"./Handwriting-Inspection-Module/save_h/갛/\"\n",
    "diff_list = os.listdir(diff_dir)\n"
   ]
  },
  {
   "cell_type": "code",
   "execution_count": 36,
   "metadata": {},
   "outputs": [],
   "source": [
    "# img2.dtype"
   ]
  },
  {
   "cell_type": "code",
   "execution_count": 37,
   "metadata": {},
   "outputs": [
    {
     "data": {
      "text/plain": [
       "{'1101000.bmp': 100315.5,\n",
       " '984000.bmp': 102604.5,\n",
       " '1263000.bmp': 102733.5,\n",
       " '1314000.bmp': 103567.5,\n",
       " '1155000.bmp': 103911.0,\n",
       " '1092000.bmp': 103995.0,\n",
       " '915000.bmp': 104770.5,\n",
       " '1227000.bmp': 105630.0,\n",
       " '1302000.bmp': 105747.0,\n",
       " '1224000.bmp': 106003.5,\n",
       " '1152000.bmp': 106458.0,\n",
       " '1287000.bmp': 107157.0,\n",
       " '960000.bmp': 107979.0,\n",
       " '933000.bmp': 108892.5,\n",
       " '1044000.bmp': 110778.0}"
      ]
     },
     "execution_count": 37,
     "metadata": {},
     "output_type": "execute_result"
    }
   ],
   "source": [
    "def mse(ori_img, com_img):\n",
    "\treturn np.average(np.sum(np.square(ori_img - com_img))) / 2\n",
    "\n",
    "result_dict = {}\n",
    "for img2_name in diff_list:\n",
    "    img2 = cv2.imread(os.path.join(diff_dir,img2_name))\n",
    "    img2 = cv2.resize(img2,(64,64))\n",
    "    result_dict[img2_name] = mse(img1,img2)\n",
    "result_dict = dict(sorted(result_dict.items(),key=lambda x:x[1]))\n",
    "result_dict"
   ]
  },
  {
   "cell_type": "code",
   "execution_count": 38,
   "metadata": {},
   "outputs": [
    {
     "data": {
      "text/plain": [
       "(64, 64, 3)"
      ]
     },
     "execution_count": 38,
     "metadata": {},
     "output_type": "execute_result"
    }
   ],
   "source": [
    "img1.shape"
   ]
  }
 ],
 "metadata": {
  "kernelspec": {
   "display_name": "Python 3.7.0 ('env': venv)",
   "language": "python",
   "name": "python3"
  },
  "language_info": {
   "codemirror_mode": {
    "name": "ipython",
    "version": 3
   },
   "file_extension": ".py",
   "mimetype": "text/x-python",
   "name": "python",
   "nbconvert_exporter": "python",
   "pygments_lexer": "ipython3",
   "version": "3.7.0"
  },
  "orig_nbformat": 4,
  "vscode": {
   "interpreter": {
    "hash": "4a343bfc7efa4c1701031899a7f6f4408b3532fb01783297054a5ede20989faa"
   }
  }
 },
 "nbformat": 4,
 "nbformat_minor": 2
}
